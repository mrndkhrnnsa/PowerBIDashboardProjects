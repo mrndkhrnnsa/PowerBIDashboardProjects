{
  "cells": [
    {
      "cell_type": "markdown",
      "metadata": {
        "id": "3hUmis7astY-"
      },
      "source": [
        "# Customer Satisfaction and Sentiment Analysis\n"
      ]
    },
    {
      "cell_type": "markdown",
      "metadata": {},
      "source": [
        "## Import Libraries\n"
      ]
    },
    {
      "cell_type": "code",
      "execution_count": 6,
      "metadata": {
        "id": "LOWYnwcmso5l"
      },
      "outputs": [],
      "source": [
        "import numpy as np\n",
        "import pandas as pd\n",
        "import os\n",
        "\n",
        "pd.options.display.max_columns = 999\n",
        "pd.options.display.float_format = \"{:.2f}\".format"
      ]
    },
    {
      "cell_type": "markdown",
      "metadata": {
        "id": "hzTVWDEZtAlk"
      },
      "source": [
        "## Upload Dataset"
      ]
    },
    {
      "cell_type": "code",
      "execution_count": 7,
      "metadata": {
        "id": "_vthpIWptEOj"
      },
      "outputs": [],
      "source": [
        "# Read Data\n",
        "df = pd.read_csv('/Users/mkhairunnisa/Documents/GitHub Portfolio/Data Analysis Dashboard/Ticket System Review/ticket_system_review.csv')"
      ]
    },
    {
      "cell_type": "markdown",
      "metadata": {
        "id": "JwcScuOJtpx9"
      },
      "source": [
        "The following is the dictionary for the data, survey is only valid if all of the survey questions and text review is not blank (null):\n",
        "\n",
        "**General Information**\n",
        "- id_survey: identifier for each survey\n",
        "- date_of_survey: date of survey taken\n",
        "- ticket_system: The name of the ticket system being reviewed (e.g. Zoho Desk)\n",
        "\n",
        "**Survey Questions**\n",
        "- overall_rating: The overall satisfaction rating given by the reviewer, ranging from 1 to 5\n",
        "- customer_service: The satisfaction rating for the customer service provided by the ticket system, ranging from 1 to 5.\n",
        "- features: The satisfaction rating for the features of the ticket system, ranging from 1 to 5\n",
        "- value_for_money: The satisfaction rating for the value for money provided by the ticket system, ranging from 1 to 5\n",
        "- ease_of_use: The rating for how easy the ticket system is to use, ranging from 1 to 5\n",
        "- likelihood_to_recommend: The likelihood that the reviewer would recommend the ticket system to others, ranging from 1 to 10\n",
        "- overall_text: The full text of the overall review, providing detailed feedback on the ticket system.\n"
      ]
    },
    {
      "cell_type": "code",
      "execution_count": 8,
      "metadata": {
        "colab": {
          "base_uri": "https://localhost:8080/",
          "height": 352
        },
        "id": "uz15jUnO5QRl",
        "outputId": "9e2ece50-3648-4b8c-e029-e7a25a3db576"
      },
      "outputs": [
        {
          "data": {
            "text/html": [
              "<div>\n",
              "<style scoped>\n",
              "    .dataframe tbody tr th:only-of-type {\n",
              "        vertical-align: middle;\n",
              "    }\n",
              "\n",
              "    .dataframe tbody tr th {\n",
              "        vertical-align: top;\n",
              "    }\n",
              "\n",
              "    .dataframe thead th {\n",
              "        text-align: right;\n",
              "    }\n",
              "</style>\n",
              "<table border=\"1\" class=\"dataframe\">\n",
              "  <thead>\n",
              "    <tr style=\"text-align: right;\">\n",
              "      <th></th>\n",
              "      <th>id_survey</th>\n",
              "      <th>date_of_survey</th>\n",
              "      <th>ticket_system</th>\n",
              "      <th>overall_rating</th>\n",
              "      <th>customer_service</th>\n",
              "      <th>features</th>\n",
              "      <th>value_for_money</th>\n",
              "      <th>ease_of_use</th>\n",
              "      <th>likelihood_to_recommend</th>\n",
              "      <th>overall_text</th>\n",
              "    </tr>\n",
              "  </thead>\n",
              "  <tbody>\n",
              "    <tr>\n",
              "      <th>0</th>\n",
              "      <td>T_02161</td>\n",
              "      <td>2024-11-20</td>\n",
              "      <td>Zendesk</td>\n",
              "      <td>NaN</td>\n",
              "      <td>NaN</td>\n",
              "      <td>NaN</td>\n",
              "      <td>NaN</td>\n",
              "      <td>NaN</td>\n",
              "      <td>NaN</td>\n",
              "      <td>NaN</td>\n",
              "    </tr>\n",
              "    <tr>\n",
              "      <th>1</th>\n",
              "      <td>T_00229</td>\n",
              "      <td>2024-10-06</td>\n",
              "      <td>Zendesk</td>\n",
              "      <td>3.00</td>\n",
              "      <td>4.00</td>\n",
              "      <td>3.00</td>\n",
              "      <td>3.00</td>\n",
              "      <td>2.00</td>\n",
              "      <td>6.00</td>\n",
              "      <td>Customer tickets managements</td>\n",
              "    </tr>\n",
              "    <tr>\n",
              "      <th>2</th>\n",
              "      <td>T_04527</td>\n",
              "      <td>2024-12-26</td>\n",
              "      <td>Zoho Desk</td>\n",
              "      <td>5.00</td>\n",
              "      <td>5.00</td>\n",
              "      <td>5.00</td>\n",
              "      <td>5.00</td>\n",
              "      <td>5.00</td>\n",
              "      <td>8.00</td>\n",
              "      <td>After 6 months of using the Zoho desk, we shif...</td>\n",
              "    </tr>\n",
              "    <tr>\n",
              "      <th>3</th>\n",
              "      <td>T_03190</td>\n",
              "      <td>2024-12-08</td>\n",
              "      <td>Zoho Desk</td>\n",
              "      <td>NaN</td>\n",
              "      <td>NaN</td>\n",
              "      <td>NaN</td>\n",
              "      <td>NaN</td>\n",
              "      <td>NaN</td>\n",
              "      <td>NaN</td>\n",
              "      <td>NaN</td>\n",
              "    </tr>\n",
              "    <tr>\n",
              "      <th>4</th>\n",
              "      <td>T_00644</td>\n",
              "      <td>2024-10-17</td>\n",
              "      <td>Zendesk</td>\n",
              "      <td>5.00</td>\n",
              "      <td>3.00</td>\n",
              "      <td>4.00</td>\n",
              "      <td>5.00</td>\n",
              "      <td>5.00</td>\n",
              "      <td>6.00</td>\n",
              "      <td>Pros:Zendesk has always been one of the go-to ...</td>\n",
              "    </tr>\n",
              "  </tbody>\n",
              "</table>\n",
              "</div>"
            ],
            "text/plain": [
              "  id_survey date_of_survey ticket_system  overall_rating  customer_service  \\\n",
              "0   T_02161     2024-11-20       Zendesk             NaN               NaN   \n",
              "1   T_00229     2024-10-06       Zendesk            3.00              4.00   \n",
              "2   T_04527     2024-12-26     Zoho Desk            5.00              5.00   \n",
              "3   T_03190     2024-12-08     Zoho Desk             NaN               NaN   \n",
              "4   T_00644     2024-10-17       Zendesk            5.00              3.00   \n",
              "\n",
              "   features  value_for_money  ease_of_use  likelihood_to_recommend  \\\n",
              "0       NaN              NaN          NaN                      NaN   \n",
              "1      3.00             3.00         2.00                     6.00   \n",
              "2      5.00             5.00         5.00                     8.00   \n",
              "3       NaN              NaN          NaN                      NaN   \n",
              "4      4.00             5.00         5.00                     6.00   \n",
              "\n",
              "                                        overall_text  \n",
              "0                                                NaN  \n",
              "1                       Customer tickets managements  \n",
              "2  After 6 months of using the Zoho desk, we shif...  \n",
              "3                                                NaN  \n",
              "4  Pros:Zendesk has always been one of the go-to ...  "
            ]
          },
          "execution_count": 8,
          "metadata": {},
          "output_type": "execute_result"
        }
      ],
      "source": [
        "df.head()"
      ]
    },
    {
      "cell_type": "code",
      "execution_count": 9,
      "metadata": {
        "colab": {
          "base_uri": "https://localhost:8080/"
        },
        "id": "fBIF-6T3tVnc",
        "outputId": "21c8b318-41c0-4bec-f376-5671f4bf1588"
      },
      "outputs": [
        {
          "name": "stdout",
          "output_type": "stream",
          "text": [
            "<class 'pandas.core.frame.DataFrame'>\n",
            "RangeIndex: 1462 entries, 0 to 1461\n",
            "Data columns (total 10 columns):\n",
            " #   Column                   Non-Null Count  Dtype  \n",
            "---  ------                   --------------  -----  \n",
            " 0   id_survey                1462 non-null   object \n",
            " 1   date_of_survey           1462 non-null   object \n",
            " 2   ticket_system            1462 non-null   object \n",
            " 3   overall_rating           787 non-null    float64\n",
            " 4   customer_service         787 non-null    float64\n",
            " 5   features                 787 non-null    float64\n",
            " 6   value_for_money          787 non-null    float64\n",
            " 7   ease_of_use              787 non-null    float64\n",
            " 8   likelihood_to_recommend  787 non-null    float64\n",
            " 9   overall_text             787 non-null    object \n",
            "dtypes: float64(6), object(4)\n",
            "memory usage: 114.3+ KB\n"
          ]
        }
      ],
      "source": [
        "# Check the type of data\n",
        "df.info()"
      ]
    },
    {
      "cell_type": "markdown",
      "metadata": {
        "id": "jMx3NFjnurX3"
      },
      "source": [
        "## Data Cleaning"
      ]
    },
    {
      "cell_type": "code",
      "execution_count": 10,
      "metadata": {
        "id": "Urs03Ufyul2i"
      },
      "outputs": [],
      "source": [
        "# Convert data type\n",
        "df['date_of_survey'] = pd.to_datetime(df['date_of_survey'])"
      ]
    },
    {
      "cell_type": "code",
      "execution_count": 11,
      "metadata": {
        "colab": {
          "base_uri": "https://localhost:8080/"
        },
        "id": "wEa_t4qnLoZ2",
        "outputId": "16080588-ebc1-4be3-cc43-d72610caf706"
      },
      "outputs": [
        {
          "name": "stdout",
          "output_type": "stream",
          "text": [
            "overall_rating\n",
            "5.00    492\n",
            "4.00    251\n",
            "3.00     38\n",
            "2.00      4\n",
            "1.00      2\n",
            "Name: count, dtype: int64\n",
            "customer_service\n",
            "4.00     269\n",
            "3.00     256\n",
            "5.00     116\n",
            "2.00      99\n",
            "1.00      30\n",
            "0.00      15\n",
            "-1.00      2\n",
            "Name: count, dtype: int64\n",
            "features\n",
            "5.00    419\n",
            "4.00    293\n",
            "3.00     61\n",
            "2.00     12\n",
            "1.00      2\n",
            "Name: count, dtype: int64\n",
            "value_for_money\n",
            "5.00    435\n",
            "4.00    247\n",
            "3.00     80\n",
            "2.00     19\n",
            "1.00      6\n",
            "Name: count, dtype: int64\n",
            "ease_of_use\n",
            "5.00    466\n",
            "4.00    246\n",
            "3.00     60\n",
            "2.00     12\n",
            "1.00      3\n",
            "Name: count, dtype: int64\n",
            "likelihood_to_recommend\n",
            "8.00     224\n",
            "9.00     174\n",
            "7.00     155\n",
            "6.00      82\n",
            "10.00     77\n",
            "5.00      34\n",
            "4.00      18\n",
            "3.00      10\n",
            "2.00       5\n",
            "1.00       5\n",
            "0.00       2\n",
            "-1.00      1\n",
            "Name: count, dtype: int64\n"
          ]
        }
      ],
      "source": [
        "# check values\n",
        "cols = ['overall_rating','customer_service','features', 'value_for_money', 'ease_of_use', 'likelihood_to_recommend']\n",
        "\n",
        "for col in cols:\n",
        "  print (df[col].value_counts())"
      ]
    },
    {
      "cell_type": "markdown",
      "metadata": {
        "id": "P3QJVZIiLuBu"
      },
      "source": [
        "Since the data dictionary specifies that the range of values for customer service is 1 to 5, and likelihood_to_recommend is 1 to 10, the invalid data of 0 and -1 should be removed."
      ]
    },
    {
      "cell_type": "code",
      "execution_count": 12,
      "metadata": {
        "id": "WQuG1PSnL_xO"
      },
      "outputs": [],
      "source": [
        "df = df[(df['customer_service'] > 0) & (df['likelihood_to_recommend'] > 0)]"
      ]
    },
    {
      "cell_type": "code",
      "execution_count": 13,
      "metadata": {
        "colab": {
          "base_uri": "https://localhost:8080/"
        },
        "id": "KQR9KgKiMOt6",
        "outputId": "ec216b3c-bafd-4bac-9576-079db8ab522e"
      },
      "outputs": [
        {
          "name": "stdout",
          "output_type": "stream",
          "text": [
            "overall_rating\n",
            "5.00    490\n",
            "4.00    245\n",
            "3.00     34\n",
            "Name: count, dtype: int64\n",
            "customer_service\n",
            "4.00    269\n",
            "3.00    256\n",
            "5.00    116\n",
            "2.00     98\n",
            "1.00     30\n",
            "Name: count, dtype: int64\n",
            "features\n",
            "5.00    417\n",
            "4.00    288\n",
            "3.00     57\n",
            "2.00      7\n",
            "Name: count, dtype: int64\n",
            "value_for_money\n",
            "5.00    433\n",
            "4.00    245\n",
            "3.00     75\n",
            "2.00     14\n",
            "1.00      2\n",
            "Name: count, dtype: int64\n",
            "ease_of_use\n",
            "5.00    463\n",
            "4.00    240\n",
            "3.00     56\n",
            "2.00     10\n",
            "Name: count, dtype: int64\n",
            "likelihood_to_recommend\n",
            "8.00     222\n",
            "9.00     174\n",
            "7.00     153\n",
            "6.00      81\n",
            "10.00     77\n",
            "5.00      32\n",
            "4.00      16\n",
            "3.00      10\n",
            "2.00       4\n",
            "Name: count, dtype: int64\n"
          ]
        }
      ],
      "source": [
        "# re-check values\n",
        "cols = ['overall_rating','customer_service','features', 'value_for_money', 'ease_of_use', 'likelihood_to_recommend']\n",
        "\n",
        "for col in cols:\n",
        "  print (df[col].value_counts())"
      ]
    },
    {
      "cell_type": "markdown",
      "metadata": {
        "id": "wJMOr-C1vm8h"
      },
      "source": [
        "## Survey Analysis"
      ]
    },
    {
      "cell_type": "markdown",
      "metadata": {
        "id": "fPeVsjWJ9JdG"
      },
      "source": [
        "### Response Rate"
      ]
    },
    {
      "cell_type": "code",
      "execution_count": 14,
      "metadata": {
        "colab": {
          "base_uri": "https://localhost:8080/"
        },
        "id": "MwfE7Isuu8VO",
        "outputId": "1471a212-4986-4faf-9a8c-9cb7f0fb9686"
      },
      "outputs": [
        {
          "name": "stdout",
          "output_type": "stream",
          "text": [
            "The total number of valid responses is: 769\n"
          ]
        }
      ],
      "source": [
        "# How many customer responded to the survey?\n",
        "number_of_respondents = df['overall_rating'].notnull().sum()\n",
        "print(f\"The total number of valid responses is: {number_of_respondents}\")"
      ]
    },
    {
      "cell_type": "code",
      "execution_count": 15,
      "metadata": {
        "colab": {
          "base_uri": "https://localhost:8080/",
          "height": 435
        },
        "id": "2f4T3m0cS5G5",
        "outputId": "bd394bfd-3d5e-49e9-c925-0ccdddefa7e3"
      },
      "outputs": [
        {
          "data": {
            "text/html": [
              "<div>\n",
              "<style scoped>\n",
              "    .dataframe tbody tr th:only-of-type {\n",
              "        vertical-align: middle;\n",
              "    }\n",
              "\n",
              "    .dataframe tbody tr th {\n",
              "        vertical-align: top;\n",
              "    }\n",
              "\n",
              "    .dataframe thead th {\n",
              "        text-align: right;\n",
              "    }\n",
              "</style>\n",
              "<table border=\"1\" class=\"dataframe\">\n",
              "  <thead>\n",
              "    <tr style=\"text-align: right;\">\n",
              "      <th></th>\n",
              "      <th>id_survey</th>\n",
              "      <th>date_of_survey</th>\n",
              "      <th>ticket_system</th>\n",
              "      <th>overall_rating</th>\n",
              "      <th>customer_service</th>\n",
              "      <th>features</th>\n",
              "      <th>value_for_money</th>\n",
              "      <th>ease_of_use</th>\n",
              "      <th>likelihood_to_recommend</th>\n",
              "      <th>overall_text</th>\n",
              "    </tr>\n",
              "  </thead>\n",
              "  <tbody>\n",
              "    <tr>\n",
              "      <th>0</th>\n",
              "      <td>T_00229</td>\n",
              "      <td>2024-10-06</td>\n",
              "      <td>Zendesk</td>\n",
              "      <td>3.00</td>\n",
              "      <td>4.00</td>\n",
              "      <td>3.00</td>\n",
              "      <td>3.00</td>\n",
              "      <td>2.00</td>\n",
              "      <td>6.00</td>\n",
              "      <td>Customer tickets managements</td>\n",
              "    </tr>\n",
              "    <tr>\n",
              "      <th>1</th>\n",
              "      <td>T_04527</td>\n",
              "      <td>2024-12-26</td>\n",
              "      <td>Zoho Desk</td>\n",
              "      <td>5.00</td>\n",
              "      <td>5.00</td>\n",
              "      <td>5.00</td>\n",
              "      <td>5.00</td>\n",
              "      <td>5.00</td>\n",
              "      <td>8.00</td>\n",
              "      <td>After 6 months of using the Zoho desk, we shif...</td>\n",
              "    </tr>\n",
              "    <tr>\n",
              "      <th>2</th>\n",
              "      <td>T_00644</td>\n",
              "      <td>2024-10-17</td>\n",
              "      <td>Zendesk</td>\n",
              "      <td>5.00</td>\n",
              "      <td>3.00</td>\n",
              "      <td>4.00</td>\n",
              "      <td>5.00</td>\n",
              "      <td>5.00</td>\n",
              "      <td>6.00</td>\n",
              "      <td>Pros:Zendesk has always been one of the go-to ...</td>\n",
              "    </tr>\n",
              "    <tr>\n",
              "      <th>3</th>\n",
              "      <td>T_04682</td>\n",
              "      <td>2024-12-28</td>\n",
              "      <td>Zoho Desk</td>\n",
              "      <td>5.00</td>\n",
              "      <td>4.00</td>\n",
              "      <td>5.00</td>\n",
              "      <td>5.00</td>\n",
              "      <td>5.00</td>\n",
              "      <td>8.00</td>\n",
              "      <td>It has been very useful so far to integrate mu...</td>\n",
              "    </tr>\n",
              "    <tr>\n",
              "      <th>4</th>\n",
              "      <td>T_01238</td>\n",
              "      <td>2024-11-02</td>\n",
              "      <td>Freshdesk</td>\n",
              "      <td>4.00</td>\n",
              "      <td>4.00</td>\n",
              "      <td>4.00</td>\n",
              "      <td>5.00</td>\n",
              "      <td>4.00</td>\n",
              "      <td>8.00</td>\n",
              "      <td>Pros:It's easy to use and very intuitive.We ha...</td>\n",
              "    </tr>\n",
              "  </tbody>\n",
              "</table>\n",
              "</div>"
            ],
            "text/plain": [
              "  id_survey date_of_survey ticket_system  overall_rating  customer_service  \\\n",
              "0   T_00229     2024-10-06       Zendesk            3.00              4.00   \n",
              "1   T_04527     2024-12-26     Zoho Desk            5.00              5.00   \n",
              "2   T_00644     2024-10-17       Zendesk            5.00              3.00   \n",
              "3   T_04682     2024-12-28     Zoho Desk            5.00              4.00   \n",
              "4   T_01238     2024-11-02     Freshdesk            4.00              4.00   \n",
              "\n",
              "   features  value_for_money  ease_of_use  likelihood_to_recommend  \\\n",
              "0      3.00             3.00         2.00                     6.00   \n",
              "1      5.00             5.00         5.00                     8.00   \n",
              "2      4.00             5.00         5.00                     6.00   \n",
              "3      5.00             5.00         5.00                     8.00   \n",
              "4      4.00             5.00         4.00                     8.00   \n",
              "\n",
              "                                        overall_text  \n",
              "0                       Customer tickets managements  \n",
              "1  After 6 months of using the Zoho desk, we shif...  \n",
              "2  Pros:Zendesk has always been one of the go-to ...  \n",
              "3  It has been very useful so far to integrate mu...  \n",
              "4  Pros:It's easy to use and very intuitive.We ha...  "
            ]
          },
          "execution_count": 15,
          "metadata": {},
          "output_type": "execute_result"
        }
      ],
      "source": [
        "# Responded Customer\n",
        "df_filled = df[df['overall_rating'].notnull()].reset_index(drop = True)\n",
        "df_filled.head()"
      ]
    },
    {
      "cell_type": "markdown",
      "metadata": {
        "id": "ElP-9j-kIRbx"
      },
      "source": [
        "### CSAT Score\n",
        "\n",
        "The customer's overall satisfaction score (CSAT) can be measured with the following formula:\n",
        "\n",
        "$$\n",
        "CSAT = \\frac{\\Sigma\\ total\\ satisfaction\\ score}{number\\ of\\ responded\\ customer \\times \\max\\ rating}\n",
        "$$\n",
        "\n",
        "The max rating is inserted to convert the CSAT score into percentage.\n",
        "\n",
        "CSAT score can be classified into categories based on the result. There is no absolute threshold for each categories but the following is the common threshold:\n",
        "\n",
        "- \\>= 90%: Excellent\n",
        "- 75%-90%: Good\n",
        "- 60-75%: Fair\n",
        "- \\<60%: Poor"
      ]
    },
    {
      "cell_type": "code",
      "execution_count": 16,
      "metadata": {
        "colab": {
          "base_uri": "https://localhost:8080/"
        },
        "id": "8SXtpsGUIw74",
        "outputId": "fe298bde-609d-4d3c-990f-aa81588556f0"
      },
      "outputs": [
        {
          "name": "stdout",
          "output_type": "stream",
          "text": [
            "Overall Customer Satisfaction (CAST) Score: 91.86%\n",
            "Interpretation: Excellent\n"
          ]
        }
      ],
      "source": [
        "# CSAT Score\n",
        "# Filter filled survey\n",
        "overall_scores = df_filled['overall_rating']\n",
        "\n",
        "# Mean of overall rating\n",
        "average_score = overall_scores.mean()\n",
        "\n",
        "# Maximum score\n",
        "max_rating = 5\n",
        "\n",
        "# CSAT formula\n",
        "csat_score = (average_score / max_rating) * 100\n",
        "\n",
        "print(f\"Overall Customer Satisfaction (CAST) Score: {csat_score:.2f}%\")\n",
        "\n",
        "# Interpretation (optional)\n",
        "if csat_score >= 90:\n",
        "  print(\"Interpretation: Excellent\")\n",
        "elif csat_score >= 75:\n",
        "  print(\"Interpretation: Good\")\n",
        "elif csat_score >= 60:\n",
        "  print(\"Interpretation: Fair\")\n",
        "else:\n",
        "  print(\"Interpretation: Poor\")"
      ]
    },
    {
      "cell_type": "markdown",
      "metadata": {
        "id": "JIILkWU2TBEy"
      },
      "source": [
        "The satisfaction score for the following attributes can also be measured:\n",
        "\n",
        "- customer service\n",
        "- features\n",
        "- value for money"
      ]
    },
    {
      "cell_type": "code",
      "execution_count": 17,
      "metadata": {
        "colab": {
          "base_uri": "https://localhost:8080/"
        },
        "id": "VDseU9Y2Uj5B",
        "outputId": "a6b45fa5-0940-483a-abba-f85951be8eb0"
      },
      "outputs": [
        {
          "name": "stdout",
          "output_type": "stream",
          "text": [
            "Satisfaction Score for Attributes:\n",
            "Customer Service: 68.92%\n",
            "Features: 89.00%\n",
            "Value For Money: 88.43%\n"
          ]
        }
      ],
      "source": [
        "# Satisfaction Score for Attributes\n",
        "# Attribute Scroes to be\n",
        "attribute_columns = ['customer_service', 'features', 'value_for_money']\n",
        "\n",
        "print(\"Satisfaction Score for Attributes:\")\n",
        "\n",
        "max_rating_attribute = 5\n",
        "\n",
        "for attribute in attribute_columns:\n",
        "    # Filter filled survey\n",
        "    attribute_scores = df_filled[attribute]\n",
        "    # Mean of rating\n",
        "    average_attribute_score = attribute_scores.mean()\n",
        "    # Calculate CSAT for each attribute\n",
        "    attribute_satisfaction_score = (average_attribute_score / max_rating_attribute) * 100\n",
        "\n",
        "    print(f\"{attribute.replace('_', ' ').title()}: {attribute_satisfaction_score:.2f}%\")"
      ]
    },
    {
      "cell_type": "markdown",
      "metadata": {
        "id": "SqZMFs24M03k"
      },
      "source": [
        "### CES Score\n",
        "\n",
        "The ease of use for customers (CES) can be measured with the following formula:\n",
        "\n",
        "\n",
        "$$\n",
        "CES = \\frac{\\Sigma\\ total\\ effort\\ score}{number\\ of\\ responded\\ customer \\times \\max\\ rating}\n",
        "$$"
      ]
    },
    {
      "cell_type": "code",
      "execution_count": 18,
      "metadata": {
        "colab": {
          "base_uri": "https://localhost:8080/"
        },
        "id": "6gLvVDVENE17",
        "outputId": "84d8d636-c69b-4460-bdca-d1c1799abdff"
      },
      "outputs": [
        {
          "name": "stdout",
          "output_type": "stream",
          "text": [
            "Customer Effort Score (CES): 90.07%\n"
          ]
        }
      ],
      "source": [
        "# CES Score\n",
        "effort_scores = df_filled['ease_of_use']\n",
        "\n",
        "# Mean of ease of use\n",
        "average_effort_score = effort_scores.mean()\n",
        "\n",
        "# Maximum score\n",
        "max_rating_effort = 5\n",
        "\n",
        "# CES Formula\n",
        "ces_score = (average_effort_score / max_rating_effort) * 100\n",
        "\n",
        "print(f\"Customer Effort Score (CES): {ces_score:.2f}%\")"
      ]
    },
    {
      "cell_type": "markdown",
      "metadata": {
        "id": "TfeJ_6ObmdS3"
      },
      "source": [
        "### NPS Score\n",
        "\n",
        "The Net Promoter Score (NPS) score can be calculated, fby first converting the **likelihood_to_recommend** column into proper NPS Category based on the rating value:\n",
        "\n",
        "* Promoter: Rating 9-10\n",
        "* Passive: Rating 7-8\n",
        "* Detractor: Rating < 7"
      ]
    },
    {
      "cell_type": "code",
      "execution_count": 19,
      "metadata": {
        "id": "rMIxo72Mr9DP"
      },
      "outputs": [],
      "source": [
        "# Category NPS - option 1\n",
        "nps_value = ['Promoter', 'Passive', 'Detractor']\n",
        "nps_condition = [df_filled['likelihood_to_recommend'] >= 9,\n",
        "                 df_filled['likelihood_to_recommend'] >= 7,\n",
        "                 df_filled['likelihood_to_recommend'] < 7\n",
        "                 ]\n",
        "\n",
        "df_filled['nps_category'] = np.select(nps_condition, nps_value, default = 'Unknown')"
      ]
    },
    {
      "cell_type": "code",
      "execution_count": 20,
      "metadata": {
        "id": "W6cuIXgAwyrA"
      },
      "outputs": [],
      "source": [
        "# # Category NPS - option 2\n",
        "# def get_nps_category(score):\n",
        "#     if score >= 9:\n",
        "#         return 'Promoter'\n",
        "#     elif score >= 7:\n",
        "#         return 'Passive'\n",
        "#     else:\n",
        "#         return 'Detractor'\n",
        "\n",
        "# # Create categorical column\n",
        "# df_filled['nps_category'] = df_filled['likelihood_to_recommend'].apply(get_nps_category)\n",
        "\n",
        "# # Calculate number of respondents in each category\n",
        "# print(df_filled['nps_category'].value_counts())"
      ]
    },
    {
      "cell_type": "markdown",
      "metadata": {
        "id": "LqsnFMysmrDF"
      },
      "source": [
        "\n",
        "The NPS Score can be calculated with the following formula:\n",
        "\n",
        "$$\n",
        "NPS = \\frac{Promoter - Detractor}{Total\\ Survey\\ Responded}\n",
        "$$"
      ]
    },
    {
      "cell_type": "code",
      "execution_count": 21,
      "metadata": {
        "colab": {
          "base_uri": "https://localhost:8080/"
        },
        "id": "GXcgu1jpxw_c",
        "outputId": "8e6c6a23-1b92-4fc8-8c99-dba54663ff0e"
      },
      "outputs": [
        {
          "name": "stdout",
          "output_type": "stream",
          "text": [
            "Net Promoter Score (NPS): 14.04%\n"
          ]
        }
      ],
      "source": [
        "# NPS Score\n",
        "# Calculate each category\n",
        "nps_counts = df_filled['nps_category'].value_counts()\n",
        "\n",
        "# Get values\n",
        "promoter_count = nps_counts.get('Promoter', 0)\n",
        "detractor_count = nps_counts.get('Detractor', 0)\n",
        "\n",
        "# Calculate percentage of promoters and detractors\n",
        "percent_promoters = (promoter_count / number_of_respondents) * 100\n",
        "percent_detractors = (detractor_count / number_of_respondents) * 100\n",
        "\n",
        "# NPS Formula\n",
        "nps_score = percent_promoters - percent_detractors\n",
        "\n",
        "print(f\"Net Promoter Score (NPS): {nps_score:.2f}%\")"
      ]
    },
    {
      "cell_type": "markdown",
      "metadata": {
        "id": "DnrnprG-bZv9"
      },
      "source": [
        "NPS score can be range from -100 (when all customers are detractor) to 100 (when all customers are promoter).\n",
        "\n",
        "NPS Score can be classified into categories based on the following threshold:\n",
        "\n",
        "- \\>= 70: Excellent\n",
        "- 50-69: Very Good\n",
        "- 30-49: Good\n",
        "- 0-29: Average\n",
        "- \\< 0: Poor"
      ]
    },
    {
      "cell_type": "code",
      "execution_count": 22,
      "metadata": {
        "colab": {
          "base_uri": "https://localhost:8080/"
        },
        "id": "wugb1bgT9nge",
        "outputId": "340cbff3-a34d-4a3c-ec29-5a8be4134e6f"
      },
      "outputs": [
        {
          "name": "stdout",
          "output_type": "stream",
          "text": [
            "Interpretation: Average\n"
          ]
        }
      ],
      "source": [
        "# Interpretation\n",
        "if nps_score >= 70:\n",
        "    print(\"Interpretation: Excellent\")\n",
        "elif nps_score >= 50:\n",
        "    print(\"Interpretation: Very Good\")\n",
        "elif nps_score >= 30:\n",
        "    print(\"Interpretation: Good\")\n",
        "elif nps_score >= 0:\n",
        "    print(\"Interpretation: Average\")\n",
        "else:\n",
        "    print(\"Interpretation: Poor\")"
      ]
    },
    {
      "cell_type": "markdown",
      "metadata": {
        "id": "A358JFml0PxG"
      },
      "source": [
        "## Sentiment Analysis"
      ]
    },
    {
      "cell_type": "code",
      "execution_count": 23,
      "metadata": {
        "colab": {
          "base_uri": "https://localhost:8080/",
          "height": 291
        },
        "id": "16O516Us0O8K",
        "outputId": "1c446a9a-e889-46e5-c7b0-a880c2566766"
      },
      "outputs": [
        {
          "data": {
            "text/html": [
              "<div>\n",
              "<style scoped>\n",
              "    .dataframe tbody tr th:only-of-type {\n",
              "        vertical-align: middle;\n",
              "    }\n",
              "\n",
              "    .dataframe tbody tr th {\n",
              "        vertical-align: top;\n",
              "    }\n",
              "\n",
              "    .dataframe thead th {\n",
              "        text-align: right;\n",
              "    }\n",
              "</style>\n",
              "<table border=\"1\" class=\"dataframe\">\n",
              "  <thead>\n",
              "    <tr style=\"text-align: right;\">\n",
              "      <th></th>\n",
              "      <th>id_survey</th>\n",
              "      <th>date_of_survey</th>\n",
              "      <th>ticket_system</th>\n",
              "      <th>overall_rating</th>\n",
              "      <th>customer_service</th>\n",
              "      <th>features</th>\n",
              "      <th>value_for_money</th>\n",
              "      <th>ease_of_use</th>\n",
              "      <th>likelihood_to_recommend</th>\n",
              "      <th>overall_text</th>\n",
              "      <th>nps_category</th>\n",
              "    </tr>\n",
              "  </thead>\n",
              "  <tbody>\n",
              "    <tr>\n",
              "      <th>0</th>\n",
              "      <td>T_00229</td>\n",
              "      <td>2024-10-06</td>\n",
              "      <td>Zendesk</td>\n",
              "      <td>3.00</td>\n",
              "      <td>4.00</td>\n",
              "      <td>3.00</td>\n",
              "      <td>3.00</td>\n",
              "      <td>2.00</td>\n",
              "      <td>6.00</td>\n",
              "      <td>Customer tickets managements</td>\n",
              "      <td>Detractor</td>\n",
              "    </tr>\n",
              "    <tr>\n",
              "      <th>1</th>\n",
              "      <td>T_04527</td>\n",
              "      <td>2024-12-26</td>\n",
              "      <td>Zoho Desk</td>\n",
              "      <td>5.00</td>\n",
              "      <td>5.00</td>\n",
              "      <td>5.00</td>\n",
              "      <td>5.00</td>\n",
              "      <td>5.00</td>\n",
              "      <td>8.00</td>\n",
              "      <td>After 6 months of using the Zoho desk, we shif...</td>\n",
              "      <td>Passive</td>\n",
              "    </tr>\n",
              "    <tr>\n",
              "      <th>2</th>\n",
              "      <td>T_00644</td>\n",
              "      <td>2024-10-17</td>\n",
              "      <td>Zendesk</td>\n",
              "      <td>5.00</td>\n",
              "      <td>3.00</td>\n",
              "      <td>4.00</td>\n",
              "      <td>5.00</td>\n",
              "      <td>5.00</td>\n",
              "      <td>6.00</td>\n",
              "      <td>Pros:Zendesk has always been one of the go-to ...</td>\n",
              "      <td>Detractor</td>\n",
              "    </tr>\n",
              "  </tbody>\n",
              "</table>\n",
              "</div>"
            ],
            "text/plain": [
              "  id_survey date_of_survey ticket_system  overall_rating  customer_service  \\\n",
              "0   T_00229     2024-10-06       Zendesk            3.00              4.00   \n",
              "1   T_04527     2024-12-26     Zoho Desk            5.00              5.00   \n",
              "2   T_00644     2024-10-17       Zendesk            5.00              3.00   \n",
              "\n",
              "   features  value_for_money  ease_of_use  likelihood_to_recommend  \\\n",
              "0      3.00             3.00         2.00                     6.00   \n",
              "1      5.00             5.00         5.00                     8.00   \n",
              "2      4.00             5.00         5.00                     6.00   \n",
              "\n",
              "                                        overall_text nps_category  \n",
              "0                       Customer tickets managements    Detractor  \n",
              "1  After 6 months of using the Zoho desk, we shif...      Passive  \n",
              "2  Pros:Zendesk has always been one of the go-to ...    Detractor  "
            ]
          },
          "execution_count": 23,
          "metadata": {},
          "output_type": "execute_result"
        }
      ],
      "source": [
        "# Create new dataframe to filter empty overall_text\n",
        "df_sentiment = df_filled.copy()\n",
        "df_sentiment.head(3)"
      ]
    },
    {
      "cell_type": "markdown",
      "metadata": {
        "id": "hO_m9gr32BiD"
      },
      "source": [
        "### Text Cleansing\n",
        "\n",
        "In order to get more accurate sentiment, several text cleansing need to be done. However, in most of recent sentiment analysis models and algorithm, the only text cleansing needed are as follows:\n",
        "\n",
        "* Clean double whitespace\n",
        "* Clean URL/website\n",
        "* Clean username (mostly in social media or digital text)"
      ]
    },
    {
      "cell_type": "code",
      "execution_count": 24,
      "metadata": {
        "colab": {
          "base_uri": "https://localhost:8080/"
        },
        "id": "cUtA5pcK-DUc",
        "outputId": "2c261961-f68d-471d-a465-e3b6450ada29"
      },
      "outputs": [
        {
          "data": {
            "text/plain": [
              "0"
            ]
          },
          "execution_count": 24,
          "metadata": {},
          "output_type": "execute_result"
        }
      ],
      "source": [
        "# Double check missing\n",
        "df_sentiment['overall_text'].isnull().sum()"
      ]
    },
    {
      "cell_type": "code",
      "execution_count": 25,
      "metadata": {
        "colab": {
          "base_uri": "https://localhost:8080/",
          "height": 50
        },
        "id": "gwZwCYT22Y68",
        "outputId": "dae3c603-21aa-4403-a59f-3199af1db7d6"
      },
      "outputs": [
        {
          "data": {
            "text/plain": [
              "\"Doesn't dissapoint. The car was great. It was the best car rental experiences I've had! Salute to @user who recommend http\""
            ]
          },
          "execution_count": 25,
          "metadata": {},
          "output_type": "execute_result"
        }
      ],
      "source": [
        "import re\n",
        "\n",
        "def cleansing_text(x):\n",
        "  # clean double whitespace\n",
        "  out_text = ' '.join(x.split())\n",
        "\n",
        "  # clean url\n",
        "  out_text = re.sub(r\"http\\S+|www\\S+|https\\S+\", 'http', out_text)\n",
        "\n",
        "  # clean username\n",
        "  out_text = re.sub(r\"@\\S+\", '@user', out_text)\n",
        "\n",
        "  return(out_text)\n",
        "\n",
        "cleansing_text(\" Doesn't  dissapoint. The car       was great. It was the best car rental experiences I've had! Salute to @jone who recommend https:/rental.com\")"
      ]
    },
    {
      "cell_type": "code",
      "execution_count": 26,
      "metadata": {
        "id": "pR5rusE11cJk"
      },
      "outputs": [],
      "source": [
        "# apply cleansing to review\n",
        "df_sentiment['cleaned_text'] = df_sentiment['overall_text'].apply(cleansing_text)"
      ]
    },
    {
      "cell_type": "markdown",
      "metadata": {
        "id": "_oIgoqbp8gBL"
      },
      "source": [
        "### Sentiment Analysis"
      ]
    },
    {
      "cell_type": "code",
      "execution_count": 27,
      "metadata": {
        "colab": {
          "base_uri": "https://localhost:8080/"
        },
        "id": "MLLyv9JWtzSO",
        "outputId": "432b933a-8cb4-41cb-8632-56eda9a0df92"
      },
      "outputs": [
        {
          "name": "stdout",
          "output_type": "stream",
          "text": [
            "Collecting transformers==4.40.2\n",
            "  Downloading transformers-4.40.2-py3-none-any.whl.metadata (137 kB)\n",
            "Requirement already satisfied: filelock in /opt/anaconda3/lib/python3.12/site-packages (from transformers==4.40.2) (3.13.1)\n",
            "Requirement already satisfied: huggingface-hub<1.0,>=0.19.3 in /opt/anaconda3/lib/python3.12/site-packages (from transformers==4.40.2) (0.32.3)\n",
            "Requirement already satisfied: numpy>=1.17 in /opt/anaconda3/lib/python3.12/site-packages (from transformers==4.40.2) (1.26.4)\n",
            "Requirement already satisfied: packaging>=20.0 in /opt/anaconda3/lib/python3.12/site-packages (from transformers==4.40.2) (24.1)\n",
            "Requirement already satisfied: pyyaml>=5.1 in /opt/anaconda3/lib/python3.12/site-packages (from transformers==4.40.2) (6.0.1)\n",
            "Requirement already satisfied: regex!=2019.12.17 in /opt/anaconda3/lib/python3.12/site-packages (from transformers==4.40.2) (2024.9.11)\n",
            "Requirement already satisfied: requests in /opt/anaconda3/lib/python3.12/site-packages (from transformers==4.40.2) (2.32.3)\n",
            "Collecting tokenizers<0.20,>=0.19 (from transformers==4.40.2)\n",
            "  Downloading tokenizers-0.19.1-cp312-cp312-macosx_11_0_arm64.whl.metadata (6.7 kB)\n",
            "Requirement already satisfied: safetensors>=0.4.1 in /opt/anaconda3/lib/python3.12/site-packages (from transformers==4.40.2) (0.5.3)\n",
            "Requirement already satisfied: tqdm>=4.27 in /opt/anaconda3/lib/python3.12/site-packages (from transformers==4.40.2) (4.66.5)\n",
            "Requirement already satisfied: fsspec>=2023.5.0 in /opt/anaconda3/lib/python3.12/site-packages (from huggingface-hub<1.0,>=0.19.3->transformers==4.40.2) (2024.6.1)\n",
            "Requirement already satisfied: typing-extensions>=3.7.4.3 in /opt/anaconda3/lib/python3.12/site-packages (from huggingface-hub<1.0,>=0.19.3->transformers==4.40.2) (4.14.1)\n",
            "Requirement already satisfied: hf-xet<2.0.0,>=1.1.2 in /opt/anaconda3/lib/python3.12/site-packages (from huggingface-hub<1.0,>=0.19.3->transformers==4.40.2) (1.1.2)\n",
            "Requirement already satisfied: charset-normalizer<4,>=2 in /opt/anaconda3/lib/python3.12/site-packages (from requests->transformers==4.40.2) (3.3.2)\n",
            "Requirement already satisfied: idna<4,>=2.5 in /opt/anaconda3/lib/python3.12/site-packages (from requests->transformers==4.40.2) (3.7)\n",
            "Requirement already satisfied: urllib3<3,>=1.21.1 in /opt/anaconda3/lib/python3.12/site-packages (from requests->transformers==4.40.2) (2.5.0)\n",
            "Requirement already satisfied: certifi>=2017.4.17 in /opt/anaconda3/lib/python3.12/site-packages (from requests->transformers==4.40.2) (2025.7.9)\n",
            "Downloading transformers-4.40.2-py3-none-any.whl (9.0 MB)\n",
            "\u001b[2K   \u001b[90m━━━━━━━━━━━━━━━━━━━━━━━━━━━━━━━━━━━━━━━━\u001b[0m \u001b[32m9.0/9.0 MB\u001b[0m \u001b[31m7.3 MB/s\u001b[0m eta \u001b[36m0:00:00\u001b[0m00:01\u001b[0m00:01\u001b[0m\n",
            "\u001b[?25hDownloading tokenizers-0.19.1-cp312-cp312-macosx_11_0_arm64.whl (2.4 MB)\n",
            "\u001b[2K   \u001b[90m━━━━━━━━━━━━━━━━━━━━━━━━━━━━━━━━━━━━━━━━\u001b[0m \u001b[32m2.4/2.4 MB\u001b[0m \u001b[31m6.6 MB/s\u001b[0m eta \u001b[36m0:00:00\u001b[0ma \u001b[36m0:00:01\u001b[0m\n",
            "\u001b[?25hInstalling collected packages: tokenizers, transformers\n",
            "  Attempting uninstall: tokenizers\n",
            "    Found existing installation: tokenizers 0.21.1\n",
            "    Uninstalling tokenizers-0.21.1:\n",
            "      Successfully uninstalled tokenizers-0.21.1\n",
            "  Attempting uninstall: transformers\n",
            "    Found existing installation: transformers 4.53.1\n",
            "    Uninstalling transformers-4.53.1:\n",
            "      Successfully uninstalled transformers-4.53.1\n",
            "Successfully installed tokenizers-0.19.1 transformers-4.40.2\n"
          ]
        },
        {
          "name": "stderr",
          "output_type": "stream",
          "text": [
            "The cache for model files in Transformers v4.22.0 has been updated. Migrating your old cache. This is a one-time only operation. You can interrupt this and resume the migration later on by calling `transformers.utils.move_cache()`.\n"
          ]
        },
        {
          "data": {
            "application/vnd.jupyter.widget-view+json": {
              "model_id": "db254bf42d0941ee8221f0b123975109",
              "version_major": 2,
              "version_minor": 0
            },
            "text/plain": [
              "0it [00:00, ?it/s]"
            ]
          },
          "metadata": {},
          "output_type": "display_data"
        }
      ],
      "source": [
        "# Sentiment Algorithm - option 1\n",
        "!pip install transformers==4.40.2 --upgrade\n",
        "from transformers import pipeline"
      ]
    },
    {
      "cell_type": "code",
      "execution_count": 28,
      "metadata": {
        "colab": {
          "base_uri": "https://localhost:8080/",
          "height": 328,
          "referenced_widgets": [
            "8b2714117347447da3ddc877b20a0088",
            "23bdb6cd826440eb8dc6db0da1420346",
            "461aa0678b204bcdaefd37da71d36718",
            "5f8df13f2750416a975aef2005bf2358",
            "9ad09db1b32b4935a686471a749b19fb",
            "6388e53216534b4fa0f792dc19e49fc9",
            "c73bc6f4ab5740278fe80bb3f59fca9c",
            "199392ee3bc64dad906643792313f609",
            "2af80e1c627543f490930630a46c8c22",
            "0fae67fffd864375b38b6651d80ae459",
            "bd44cf183ea0489a99e8e1f762dac034",
            "c8d67d180c364cfdae6808a54c1e2ff9",
            "22d6ff7642624c378d59d8507ef458ff",
            "9c2663d8b182479380ae801a4821fcdd",
            "2c811c5e439e48db8a40f652e4f3b574",
            "94610e2bb10245b2b60e9c7e17604afd",
            "06ac72d03c50403c9a603b3cd0b63c6f",
            "51c05ae2b020499ead4bed32d6db9491",
            "97d49fb3381341d6bb5f13e4650dec5b",
            "430e895fc5cf4db8a2661b859a202959",
            "773a5542b1854f1495dc33078abfa4fe",
            "e547b224f9c14fe3a66e2d179b6d9ed3",
            "fe9a7b04347a4fcfbd6348cfd3476a94",
            "e58d04c818134560a0fd6bf9d2da47d9",
            "0a5dfd819e454d31a58b75a909c8fce1",
            "8349336d64fd4d0aa33211f08bfb41d4",
            "6684031e14b54ccfb378619d20a62323",
            "14f45660c73d4968b1d2d1a4ee2e9a11",
            "da240dadb099430c8529a5de50c9525b",
            "f10df7f93df54535a557bd3dff642e8e",
            "f05ce9b0d0f643fcacc4370ee188c211",
            "c47b3943316a42c88fa734b9d671420f",
            "dff6f9e796244fa687dfbc9a97c5e932",
            "61cfaf9cccab4966a386d509e76daa2e",
            "e400f119a53b4f1db3507b698f50d98e",
            "00e031788c6845f19dcc8b7a1f37eec0",
            "7ac5539d4f434ab688d481acec371c05",
            "373fa12a1b004526b1e3c2ceef733221",
            "78ada58047ff45eabe27958dda0cc75c",
            "d3fb576b91a1424bb26e70fef2afe6a8",
            "cdb64e46e2614ae1b24de2f560f3df97",
            "f3a3b2184acd4aa180a54aeb357da67d",
            "c8fb56340a1843019bc2a466e5446251",
            "ae9769f9805c4c46a6b8a7b1efdbd6c5",
            "19c597b92f9f407d93b7c3097ec593d6",
            "a7656428a585409591020793464b0564",
            "36a5df1a4fde45ab9da304b6a855d31f",
            "f3fc330d8cfd46b5952193cebb479408",
            "c099dfac0ce7451ea72182429a8e9043",
            "112c5bbe086a4498b9c5c0e58ed6a697",
            "285b9d3f363445a1aeb1184de54b5fca",
            "69eb2b68f0784b16a8196422e626b8b4",
            "7799ce4afe4f425fa536646ef8f11dea",
            "5bd64297d23844f7a167ccd30711254f",
            "18f5529675cd495d9d2dfd424b12f04b"
          ]
        },
        "id": "QlgrUpSutQZn",
        "outputId": "088905a6-a15f-4e7b-b8bc-a2d2e2eb813c"
      },
      "outputs": [
        {
          "name": "stderr",
          "output_type": "stream",
          "text": [
            "/opt/anaconda3/lib/python3.12/site-packages/huggingface_hub/file_download.py:943: FutureWarning: `resume_download` is deprecated and will be removed in version 1.0.0. Downloads always resume when possible. If you want to force a new download, use `force_download=True`.\n",
            "  warnings.warn(\n"
          ]
        },
        {
          "data": {
            "application/vnd.jupyter.widget-view+json": {
              "model_id": "68e2261836fe4f719b4731a4ad53c908",
              "version_major": 2,
              "version_minor": 0
            },
            "text/plain": [
              "config.json:   0%|          | 0.00/747 [00:00<?, ?B/s]"
            ]
          },
          "metadata": {},
          "output_type": "display_data"
        },
        {
          "data": {
            "application/vnd.jupyter.widget-view+json": {
              "model_id": "c0a4d912464544689a47426000339e1e",
              "version_major": 2,
              "version_minor": 0
            },
            "text/plain": [
              "pytorch_model.bin:   0%|          | 0.00/499M [00:00<?, ?B/s]"
            ]
          },
          "metadata": {},
          "output_type": "display_data"
        },
        {
          "data": {
            "application/vnd.jupyter.widget-view+json": {
              "model_id": "3ace91becfe44d2ba824ceba54af1910",
              "version_major": 2,
              "version_minor": 0
            },
            "text/plain": [
              "vocab.json: 0.00B [00:00, ?B/s]"
            ]
          },
          "metadata": {},
          "output_type": "display_data"
        },
        {
          "data": {
            "application/vnd.jupyter.widget-view+json": {
              "model_id": "661488803a5c485d9c6f43a6a80e1753",
              "version_major": 2,
              "version_minor": 0
            },
            "text/plain": [
              "merges.txt: 0.00B [00:00, ?B/s]"
            ]
          },
          "metadata": {},
          "output_type": "display_data"
        },
        {
          "data": {
            "application/vnd.jupyter.widget-view+json": {
              "model_id": "0c0b8c14fea54ee0b1b0f5ab6be163ea",
              "version_major": 2,
              "version_minor": 0
            },
            "text/plain": [
              "special_tokens_map.json:   0%|          | 0.00/150 [00:00<?, ?B/s]"
            ]
          },
          "metadata": {},
          "output_type": "display_data"
        },
        {
          "data": {
            "text/html": [
              "<div>\n",
              "<style scoped>\n",
              "    .dataframe tbody tr th:only-of-type {\n",
              "        vertical-align: middle;\n",
              "    }\n",
              "\n",
              "    .dataframe tbody tr th {\n",
              "        vertical-align: top;\n",
              "    }\n",
              "\n",
              "    .dataframe thead th {\n",
              "        text-align: right;\n",
              "    }\n",
              "</style>\n",
              "<table border=\"1\" class=\"dataframe\">\n",
              "  <thead>\n",
              "    <tr style=\"text-align: right;\">\n",
              "      <th></th>\n",
              "      <th>id_survey</th>\n",
              "      <th>date_of_survey</th>\n",
              "      <th>ticket_system</th>\n",
              "      <th>overall_rating</th>\n",
              "      <th>customer_service</th>\n",
              "      <th>features</th>\n",
              "      <th>value_for_money</th>\n",
              "      <th>ease_of_use</th>\n",
              "      <th>likelihood_to_recommend</th>\n",
              "      <th>overall_text</th>\n",
              "      <th>nps_category</th>\n",
              "      <th>cleaned_text</th>\n",
              "      <th>sentiment_score</th>\n",
              "      <th>sentiment</th>\n",
              "    </tr>\n",
              "  </thead>\n",
              "  <tbody>\n",
              "    <tr>\n",
              "      <th>0</th>\n",
              "      <td>T_00229</td>\n",
              "      <td>2024-10-06</td>\n",
              "      <td>Zendesk</td>\n",
              "      <td>3.00</td>\n",
              "      <td>4.00</td>\n",
              "      <td>3.00</td>\n",
              "      <td>3.00</td>\n",
              "      <td>2.00</td>\n",
              "      <td>6.00</td>\n",
              "      <td>Customer tickets managements</td>\n",
              "      <td>Detractor</td>\n",
              "      <td>Customer tickets managements</td>\n",
              "      <td>{'label': 'LABEL_1', 'score': 0.7328799366950989}</td>\n",
              "      <td>Neutral</td>\n",
              "    </tr>\n",
              "    <tr>\n",
              "      <th>1</th>\n",
              "      <td>T_04527</td>\n",
              "      <td>2024-12-26</td>\n",
              "      <td>Zoho Desk</td>\n",
              "      <td>5.00</td>\n",
              "      <td>5.00</td>\n",
              "      <td>5.00</td>\n",
              "      <td>5.00</td>\n",
              "      <td>5.00</td>\n",
              "      <td>8.00</td>\n",
              "      <td>After 6 months of using the Zoho desk, we shif...</td>\n",
              "      <td>Passive</td>\n",
              "      <td>After 6 months of using the Zoho desk, we shif...</td>\n",
              "      <td>{'label': 'LABEL_2', 'score': 0.9796792268753052}</td>\n",
              "      <td>Positive</td>\n",
              "    </tr>\n",
              "    <tr>\n",
              "      <th>2</th>\n",
              "      <td>T_00644</td>\n",
              "      <td>2024-10-17</td>\n",
              "      <td>Zendesk</td>\n",
              "      <td>5.00</td>\n",
              "      <td>3.00</td>\n",
              "      <td>4.00</td>\n",
              "      <td>5.00</td>\n",
              "      <td>5.00</td>\n",
              "      <td>6.00</td>\n",
              "      <td>Pros:Zendesk has always been one of the go-to ...</td>\n",
              "      <td>Detractor</td>\n",
              "      <td>Pros:Zendesk has always been one of the go-to ...</td>\n",
              "      <td>{'label': 'LABEL_2', 'score': 0.787929356098175}</td>\n",
              "      <td>Positive</td>\n",
              "    </tr>\n",
              "    <tr>\n",
              "      <th>3</th>\n",
              "      <td>T_04682</td>\n",
              "      <td>2024-12-28</td>\n",
              "      <td>Zoho Desk</td>\n",
              "      <td>5.00</td>\n",
              "      <td>4.00</td>\n",
              "      <td>5.00</td>\n",
              "      <td>5.00</td>\n",
              "      <td>5.00</td>\n",
              "      <td>8.00</td>\n",
              "      <td>It has been very useful so far to integrate mu...</td>\n",
              "      <td>Passive</td>\n",
              "      <td>It has been very useful so far to integrate mu...</td>\n",
              "      <td>{'label': 'LABEL_2', 'score': 0.9632710218429565}</td>\n",
              "      <td>Positive</td>\n",
              "    </tr>\n",
              "    <tr>\n",
              "      <th>4</th>\n",
              "      <td>T_01238</td>\n",
              "      <td>2024-11-02</td>\n",
              "      <td>Freshdesk</td>\n",
              "      <td>4.00</td>\n",
              "      <td>4.00</td>\n",
              "      <td>4.00</td>\n",
              "      <td>5.00</td>\n",
              "      <td>4.00</td>\n",
              "      <td>8.00</td>\n",
              "      <td>Pros:It's easy to use and very intuitive.We ha...</td>\n",
              "      <td>Passive</td>\n",
              "      <td>Pros:It's easy to use and very intuitive.We ha...</td>\n",
              "      <td>{'label': 'LABEL_2', 'score': 0.8690704703330994}</td>\n",
              "      <td>Positive</td>\n",
              "    </tr>\n",
              "  </tbody>\n",
              "</table>\n",
              "</div>"
            ],
            "text/plain": [
              "  id_survey date_of_survey ticket_system  overall_rating  customer_service  \\\n",
              "0   T_00229     2024-10-06       Zendesk            3.00              4.00   \n",
              "1   T_04527     2024-12-26     Zoho Desk            5.00              5.00   \n",
              "2   T_00644     2024-10-17       Zendesk            5.00              3.00   \n",
              "3   T_04682     2024-12-28     Zoho Desk            5.00              4.00   \n",
              "4   T_01238     2024-11-02     Freshdesk            4.00              4.00   \n",
              "\n",
              "   features  value_for_money  ease_of_use  likelihood_to_recommend  \\\n",
              "0      3.00             3.00         2.00                     6.00   \n",
              "1      5.00             5.00         5.00                     8.00   \n",
              "2      4.00             5.00         5.00                     6.00   \n",
              "3      5.00             5.00         5.00                     8.00   \n",
              "4      4.00             5.00         4.00                     8.00   \n",
              "\n",
              "                                        overall_text nps_category  \\\n",
              "0                       Customer tickets managements    Detractor   \n",
              "1  After 6 months of using the Zoho desk, we shif...      Passive   \n",
              "2  Pros:Zendesk has always been one of the go-to ...    Detractor   \n",
              "3  It has been very useful so far to integrate mu...      Passive   \n",
              "4  Pros:It's easy to use and very intuitive.We ha...      Passive   \n",
              "\n",
              "                                        cleaned_text  \\\n",
              "0                       Customer tickets managements   \n",
              "1  After 6 months of using the Zoho desk, we shif...   \n",
              "2  Pros:Zendesk has always been one of the go-to ...   \n",
              "3  It has been very useful so far to integrate mu...   \n",
              "4  Pros:It's easy to use and very intuitive.We ha...   \n",
              "\n",
              "                                     sentiment_score sentiment  \n",
              "0  {'label': 'LABEL_1', 'score': 0.7328799366950989}   Neutral  \n",
              "1  {'label': 'LABEL_2', 'score': 0.9796792268753052}  Positive  \n",
              "2   {'label': 'LABEL_2', 'score': 0.787929356098175}  Positive  \n",
              "3  {'label': 'LABEL_2', 'score': 0.9632710218429565}  Positive  \n",
              "4  {'label': 'LABEL_2', 'score': 0.8690704703330994}  Positive  "
            ]
          },
          "execution_count": 28,
          "metadata": {},
          "output_type": "execute_result"
        }
      ],
      "source": [
        "# Sentiment analysis task with twitter roberta model\n",
        "sentiment_pipeline = pipeline(\"sentiment-analysis\", model=\"cardiffnlp/twitter-roberta-base-sentiment\")\n",
        "\n",
        "# Predict sentiment\n",
        "transformer_results = sentiment_pipeline(df_sentiment['cleaned_text'].tolist())\n",
        "\n",
        "df_sentiment['sentiment_score'] = transformer_results\n",
        "df_sentiment['sentiment'] = df_sentiment['sentiment_score'].apply(lambda x: x['label'])\n",
        "\n",
        "# Create sentiment category\n",
        "sent_value = ['Negative', 'Neutral', 'Positive']\n",
        "sent_condition = [df_sentiment['sentiment'] == 'LABEL_0',\n",
        "                  df_sentiment['sentiment'] == 'LABEL_1',\n",
        "                  df_sentiment['sentiment'] == 'LABEL_2'\n",
        "                  ]\n",
        "\n",
        "df_sentiment['sentiment'] = np.select(sent_condition, sent_value, default='Unknown')\n",
        "\n",
        "df_sentiment.head()"
      ]
    },
    {
      "cell_type": "code",
      "execution_count": 29,
      "metadata": {
        "id": "hMbHArJ_yQkw"
      },
      "outputs": [],
      "source": [
        "# # Sentiment Algorithm - option 2\n",
        "# !pip install vaderSentiment\n",
        "# from vaderSentiment.vaderSentiment import SentimentIntensityAnalyzer\n",
        "\n",
        "# # Create analyzer object\n",
        "# analyzer = SentimentIntensityAnalyzer()\n",
        "\n",
        "# # Create function to get the sentiment label from the text\n",
        "# def get_sentiment(text):\n",
        "#     # Analyze sentiment scores\n",
        "#     scores = analyzer.polarity_scores(text)\n",
        "#     # Create a score compound\n",
        "#     compound_score = scores['compound']\n",
        "\n",
        "#     # Categorize sentiment based on score compound\n",
        "#     if compound_score >= 0.05:\n",
        "#       return 'Positive'\n",
        "#     elif compound_score <= -0.05:\n",
        "#       return 'Negative'\n",
        "#     else:\n",
        "#       return 'Neutral'\n",
        "\n",
        "# df_sentiment['sentiment'] = df_sentiment['cleaned_text'].apply(get_sentiment)\n",
        "\n",
        "# df_sentiment[['cleaned_text', 'sentiment']].head()"
      ]
    },
    {
      "cell_type": "markdown",
      "metadata": {
        "id": "XGfkO0398K9_"
      },
      "source": [
        "Check the number of data by sentiment."
      ]
    },
    {
      "cell_type": "code",
      "execution_count": 30,
      "metadata": {
        "id": "e6HQyB2lyJ2S"
      },
      "outputs": [
        {
          "data": {
            "text/plain": [
              "sentiment\n",
              "Positive    656\n",
              "Neutral      97\n",
              "Negative     16\n",
              "Name: count, dtype: int64"
            ]
          },
          "execution_count": 30,
          "metadata": {},
          "output_type": "execute_result"
        }
      ],
      "source": [
        "# Number of Sentiment - option 1\n",
        "sentiment_counts = df_sentiment['sentiment'].value_counts()\n",
        "sentiment_counts"
      ]
    },
    {
      "cell_type": "code",
      "execution_count": 31,
      "metadata": {
        "id": "xlQhVTwzo8qn"
      },
      "outputs": [],
      "source": [
        "# # Number of Sentiment - option 2\n",
        "# sentiment_counts = df_sentiment['sentiment'].value_counts()\n",
        "# sentiment_counts"
      ]
    },
    {
      "cell_type": "code",
      "execution_count": 32,
      "metadata": {
        "id": "cAAc9El4-s0t"
      },
      "outputs": [
        {
          "data": {
            "text/plain": [
              "sentiment\n",
              "Positive   85.31\n",
              "Neutral    12.61\n",
              "Negative    2.08\n",
              "Name: proportion, dtype: float64"
            ]
          },
          "execution_count": 32,
          "metadata": {},
          "output_type": "execute_result"
        }
      ],
      "source": [
        "df_sentiment['sentiment'].value_counts(normalize=True) * 100 # in percentage (optional)"
      ]
    },
    {
      "cell_type": "markdown",
      "metadata": {
        "id": "q1_JUY3R-2g_"
      },
      "source": [
        "## Finalize Data for Reporting"
      ]
    },
    {
      "cell_type": "code",
      "execution_count": 33,
      "metadata": {
        "id": "e3RZ-nrf-1mx"
      },
      "outputs": [],
      "source": [
        "# Save Data\n",
        "# Create DataFrame\n",
        "final_info = [\n",
        "    'id_survey',\n",
        "    'date_of_survey',\n",
        "    'ticket_system',\n",
        "    'overall_rating',\n",
        "    'customer_service',\n",
        "    'features',\n",
        "    'value_for_money',\n",
        "    'ease_of_use',\n",
        "    'likelihood_to_recommend',\n",
        "    'nps_category',\n",
        "    'sentiment',\n",
        "    'cleaned_text'\n",
        "]\n",
        "\n",
        "df_final = df_sentiment[final_info]\n",
        "\n",
        "df_final.to_csv('cleaned_ticket_system_review.csv', index=False)"
      ]
    },
    {
      "cell_type": "markdown",
      "metadata": {
        "id": "P06sTz1YONps"
      },
      "source": [
        "## Word Cloud"
      ]
    },
    {
      "cell_type": "code",
      "execution_count": 34,
      "metadata": {
        "colab": {
          "background_save": true
        },
        "id": "R8K0xKD2OMfd"
      },
      "outputs": [],
      "source": [
        "%%capture\n",
        "import nltk\n",
        "\n",
        "# Download stopwords\n",
        "nltk.download('stopwords')\n",
        "nltk.download('punkt_tab')\n",
        "nltk.download('wordnet')\n",
        "\n",
        "!pip install contractions\n",
        "\n",
        "from nltk.corpus import stopwords\n",
        "from nltk.tokenize import word_tokenize\n",
        "from nltk.stem import WordNetLemmatizer\n",
        "import string\n",
        "import contractions\n",
        "\n",
        "# Load English stopwords\n",
        "stop_words = set(stopwords.words('english'))\n",
        "\n",
        "# Initialize lemmatizer\n",
        "lemmatizer = WordNetLemmatizer()\n",
        "\n",
        "# Create more detailed text cleansing\n",
        "def clean_tokenize_text(x):\n",
        "  # lower text\n",
        "  out_text = x.lower()\n",
        "  # clean double whitespace\n",
        "  out_text = ' '.join(out_text.split())\n",
        "  # clean url\n",
        "  out_text = re.sub(r\"http\\S+|www\\S+|https\\S+\", 'http', out_text)\n",
        "  # clean username\n",
        "  out_text = re.sub(r\"@\\S+\", '@user', out_text)\n",
        "  # remove punctuation\n",
        "  out_text = out_text.translate(str.maketrans('', '', string.punctuation))\n",
        "  # fix word contraction: don't -> do not\n",
        "  out_text = contractions.fix(out_text)\n",
        "  # tokenize the text\n",
        "  tokens = word_tokenize(out_text)\n",
        "  # exclude stop words\n",
        "  tokens = [word for word in tokens if word not in stop_words]\n",
        "  # lematize tokens: cats -> cat\n",
        "  tokens = [lemmatizer.lemmatize(word) for word in tokens]\n",
        "\n",
        "  return(tokens)"
      ]
    },
    {
      "cell_type": "code",
      "execution_count": 35,
      "metadata": {
        "colab": {
          "background_save": true
        },
        "id": "LUBvedKEPkdJ",
        "outputId": "4907cf26-9d84-4b81-9bab-b82779ffaba1"
      },
      "outputs": [
        {
          "data": {
            "text/html": [
              "<div>\n",
              "<style scoped>\n",
              "    .dataframe tbody tr th:only-of-type {\n",
              "        vertical-align: middle;\n",
              "    }\n",
              "\n",
              "    .dataframe tbody tr th {\n",
              "        vertical-align: top;\n",
              "    }\n",
              "\n",
              "    .dataframe thead th {\n",
              "        text-align: right;\n",
              "    }\n",
              "</style>\n",
              "<table border=\"1\" class=\"dataframe\">\n",
              "  <thead>\n",
              "    <tr style=\"text-align: right;\">\n",
              "      <th></th>\n",
              "      <th>id_survey</th>\n",
              "      <th>cleaned_text</th>\n",
              "      <th>sentiment</th>\n",
              "    </tr>\n",
              "  </thead>\n",
              "  <tbody>\n",
              "    <tr>\n",
              "      <th>0</th>\n",
              "      <td>T_00229</td>\n",
              "      <td>Customer tickets managements</td>\n",
              "      <td>Neutral</td>\n",
              "    </tr>\n",
              "    <tr>\n",
              "      <th>1</th>\n",
              "      <td>T_04527</td>\n",
              "      <td>After 6 months of using the Zoho desk, we shif...</td>\n",
              "      <td>Positive</td>\n",
              "    </tr>\n",
              "    <tr>\n",
              "      <th>2</th>\n",
              "      <td>T_00644</td>\n",
              "      <td>Pros:Zendesk has always been one of the go-to ...</td>\n",
              "      <td>Positive</td>\n",
              "    </tr>\n",
              "    <tr>\n",
              "      <th>3</th>\n",
              "      <td>T_04682</td>\n",
              "      <td>It has been very useful so far to integrate mu...</td>\n",
              "      <td>Positive</td>\n",
              "    </tr>\n",
              "    <tr>\n",
              "      <th>4</th>\n",
              "      <td>T_01238</td>\n",
              "      <td>Pros:It's easy to use and very intuitive.We ha...</td>\n",
              "      <td>Positive</td>\n",
              "    </tr>\n",
              "  </tbody>\n",
              "</table>\n",
              "</div>"
            ],
            "text/plain": [
              "  id_survey                                       cleaned_text sentiment\n",
              "0   T_00229                       Customer tickets managements   Neutral\n",
              "1   T_04527  After 6 months of using the Zoho desk, we shif...  Positive\n",
              "2   T_00644  Pros:Zendesk has always been one of the go-to ...  Positive\n",
              "3   T_04682  It has been very useful so far to integrate mu...  Positive\n",
              "4   T_01238  Pros:It's easy to use and very intuitive.We ha...  Positive"
            ]
          },
          "execution_count": 35,
          "metadata": {},
          "output_type": "execute_result"
        }
      ],
      "source": [
        "df_review_token = df_final[['id_survey', 'cleaned_text', 'sentiment']].copy()\n",
        "df_review_token.head()"
      ]
    },
    {
      "cell_type": "code",
      "execution_count": 36,
      "metadata": {
        "colab": {
          "background_save": true
        },
        "id": "UfXNkr1lRQB-",
        "outputId": "9ee1305c-fbc7-4524-e426-94d443e10e0f"
      },
      "outputs": [
        {
          "data": {
            "text/plain": [
              "['product', 'spark', 'joy', 'try']"
            ]
          },
          "execution_count": 36,
          "metadata": {},
          "output_type": "execute_result"
        }
      ],
      "source": [
        "clean_tokenize_text('This   product sparks joy. You should try it!')"
      ]
    },
    {
      "cell_type": "code",
      "execution_count": 37,
      "metadata": {
        "colab": {
          "background_save": true
        },
        "id": "lDc6IpiYPwoS",
        "outputId": "05f9a69e-0579-4967-9b63-0d25778ea284"
      },
      "outputs": [
        {
          "data": {
            "text/html": [
              "<div>\n",
              "<style scoped>\n",
              "    .dataframe tbody tr th:only-of-type {\n",
              "        vertical-align: middle;\n",
              "    }\n",
              "\n",
              "    .dataframe tbody tr th {\n",
              "        vertical-align: top;\n",
              "    }\n",
              "\n",
              "    .dataframe thead th {\n",
              "        text-align: right;\n",
              "    }\n",
              "</style>\n",
              "<table border=\"1\" class=\"dataframe\">\n",
              "  <thead>\n",
              "    <tr style=\"text-align: right;\">\n",
              "      <th></th>\n",
              "      <th>id_survey</th>\n",
              "      <th>sentiment</th>\n",
              "      <th>cleaned_text</th>\n",
              "      <th>token</th>\n",
              "    </tr>\n",
              "  </thead>\n",
              "  <tbody>\n",
              "    <tr>\n",
              "      <th>0</th>\n",
              "      <td>T_00229</td>\n",
              "      <td>Neutral</td>\n",
              "      <td>Customer tickets managements</td>\n",
              "      <td>customer</td>\n",
              "    </tr>\n",
              "    <tr>\n",
              "      <th>0</th>\n",
              "      <td>T_00229</td>\n",
              "      <td>Neutral</td>\n",
              "      <td>Customer tickets managements</td>\n",
              "      <td>ticket</td>\n",
              "    </tr>\n",
              "    <tr>\n",
              "      <th>0</th>\n",
              "      <td>T_00229</td>\n",
              "      <td>Neutral</td>\n",
              "      <td>Customer tickets managements</td>\n",
              "      <td>management</td>\n",
              "    </tr>\n",
              "    <tr>\n",
              "      <th>1</th>\n",
              "      <td>T_04527</td>\n",
              "      <td>Positive</td>\n",
              "      <td>After 6 months of using the Zoho desk, we shif...</td>\n",
              "      <td>6</td>\n",
              "    </tr>\n",
              "    <tr>\n",
              "      <th>1</th>\n",
              "      <td>T_04527</td>\n",
              "      <td>Positive</td>\n",
              "      <td>After 6 months of using the Zoho desk, we shif...</td>\n",
              "      <td>month</td>\n",
              "    </tr>\n",
              "  </tbody>\n",
              "</table>\n",
              "</div>"
            ],
            "text/plain": [
              "  id_survey sentiment                                       cleaned_text  \\\n",
              "0   T_00229   Neutral                       Customer tickets managements   \n",
              "0   T_00229   Neutral                       Customer tickets managements   \n",
              "0   T_00229   Neutral                       Customer tickets managements   \n",
              "1   T_04527  Positive  After 6 months of using the Zoho desk, we shif...   \n",
              "1   T_04527  Positive  After 6 months of using the Zoho desk, we shif...   \n",
              "\n",
              "        token  \n",
              "0    customer  \n",
              "0      ticket  \n",
              "0  management  \n",
              "1           6  \n",
              "1       month  "
            ]
          },
          "execution_count": 37,
          "metadata": {},
          "output_type": "execute_result"
        }
      ],
      "source": [
        "df_review_token['token'] = df_review_token['cleaned_text'].apply(clean_tokenize_text)\n",
        "df_review_token = df_review_token.explode('token')\n",
        "df_review_token = df_review_token[['id_survey', 'sentiment', 'cleaned_text', 'token']]\n",
        "\n",
        "df_review_token.head()"
      ]
    },
    {
      "cell_type": "code",
      "execution_count": 38,
      "metadata": {
        "colab": {
          "background_save": true
        },
        "id": "fviyR_AwSFnL",
        "outputId": "58edf5b8-56f4-454e-b69a-ddaf70c025b7"
      },
      "outputs": [
        {
          "data": {
            "text/html": [
              "<div>\n",
              "<style scoped>\n",
              "    .dataframe tbody tr th:only-of-type {\n",
              "        vertical-align: middle;\n",
              "    }\n",
              "\n",
              "    .dataframe tbody tr th {\n",
              "        vertical-align: top;\n",
              "    }\n",
              "\n",
              "    .dataframe thead th {\n",
              "        text-align: right;\n",
              "    }\n",
              "</style>\n",
              "<table border=\"1\" class=\"dataframe\">\n",
              "  <thead>\n",
              "    <tr style=\"text-align: right;\">\n",
              "      <th></th>\n",
              "      <th>sentiment</th>\n",
              "      <th>token</th>\n",
              "      <th>id_survey</th>\n",
              "    </tr>\n",
              "  </thead>\n",
              "  <tbody>\n",
              "    <tr>\n",
              "      <th>652</th>\n",
              "      <td>Positive</td>\n",
              "      <td>customer</td>\n",
              "      <td>179</td>\n",
              "    </tr>\n",
              "    <tr>\n",
              "      <th>2349</th>\n",
              "      <td>Positive</td>\n",
              "      <td>use</td>\n",
              "      <td>154</td>\n",
              "    </tr>\n",
              "    <tr>\n",
              "      <th>2161</th>\n",
              "      <td>Positive</td>\n",
              "      <td>support</td>\n",
              "      <td>153</td>\n",
              "    </tr>\n",
              "    <tr>\n",
              "      <th>788</th>\n",
              "      <td>Positive</td>\n",
              "      <td>easy</td>\n",
              "      <td>140</td>\n",
              "    </tr>\n",
              "    <tr>\n",
              "      <th>2256</th>\n",
              "      <td>Positive</td>\n",
              "      <td>tool</td>\n",
              "      <td>104</td>\n",
              "    </tr>\n",
              "  </tbody>\n",
              "</table>\n",
              "</div>"
            ],
            "text/plain": [
              "     sentiment     token  id_survey\n",
              "652   Positive  customer        179\n",
              "2349  Positive       use        154\n",
              "2161  Positive   support        153\n",
              "788   Positive      easy        140\n",
              "2256  Positive      tool        104"
            ]
          },
          "execution_count": 38,
          "metadata": {},
          "output_type": "execute_result"
        }
      ],
      "source": [
        "# Only check for positive and negative sentiment\n",
        "df_top_word = df_review_token[ df_review_token['sentiment'] != 'Neutral' ]\n",
        "df_top_word = df_top_word.groupby(['sentiment', 'token']).agg({'id_survey':'nunique'}).reset_index()\n",
        "\n",
        "# Get top 50 words\n",
        "df_top_word = df_top_word.sort_values(['sentiment', 'id_survey'], ascending = [False, False])\n",
        "df_top_word = df_top_word.groupby('sentiment').head(50)\n",
        "\n",
        "df_top_word.head()"
      ]
    },
    {
      "cell_type": "code",
      "execution_count": 40,
      "metadata": {},
      "outputs": [
        {
          "name": "stdout",
          "output_type": "stream",
          "text": [
            "Collecting wordcloud\n",
            "  Downloading wordcloud-1.9.4-cp312-cp312-macosx_11_0_arm64.whl.metadata (3.4 kB)\n",
            "Requirement already satisfied: numpy>=1.6.1 in /opt/anaconda3/lib/python3.12/site-packages (from wordcloud) (1.26.4)\n",
            "Requirement already satisfied: pillow in /opt/anaconda3/lib/python3.12/site-packages (from wordcloud) (10.4.0)\n",
            "Requirement already satisfied: matplotlib in /opt/anaconda3/lib/python3.12/site-packages (from wordcloud) (3.9.2)\n",
            "Requirement already satisfied: contourpy>=1.0.1 in /opt/anaconda3/lib/python3.12/site-packages (from matplotlib->wordcloud) (1.2.0)\n",
            "Requirement already satisfied: cycler>=0.10 in /opt/anaconda3/lib/python3.12/site-packages (from matplotlib->wordcloud) (0.11.0)\n",
            "Requirement already satisfied: fonttools>=4.22.0 in /opt/anaconda3/lib/python3.12/site-packages (from matplotlib->wordcloud) (4.51.0)\n",
            "Requirement already satisfied: kiwisolver>=1.3.1 in /opt/anaconda3/lib/python3.12/site-packages (from matplotlib->wordcloud) (1.4.4)\n",
            "Requirement already satisfied: packaging>=20.0 in /opt/anaconda3/lib/python3.12/site-packages (from matplotlib->wordcloud) (24.1)\n",
            "Requirement already satisfied: pyparsing>=2.3.1 in /opt/anaconda3/lib/python3.12/site-packages (from matplotlib->wordcloud) (3.1.2)\n",
            "Requirement already satisfied: python-dateutil>=2.7 in /opt/anaconda3/lib/python3.12/site-packages (from matplotlib->wordcloud) (2.9.0.post0)\n",
            "Requirement already satisfied: six>=1.5 in /opt/anaconda3/lib/python3.12/site-packages (from python-dateutil>=2.7->matplotlib->wordcloud) (1.16.0)\n",
            "Downloading wordcloud-1.9.4-cp312-cp312-macosx_11_0_arm64.whl (168 kB)\n",
            "Installing collected packages: wordcloud\n",
            "Successfully installed wordcloud-1.9.4\n"
          ]
        }
      ],
      "source": [
        "!pip install wordcloud"
      ]
    },
    {
      "cell_type": "code",
      "execution_count": 41,
      "metadata": {
        "colab": {
          "background_save": true
        },
        "id": "zBcXdMtOSMjo"
      },
      "outputs": [],
      "source": [
        "from wordcloud import WordCloud\n",
        "import matplotlib.pyplot as plt"
      ]
    },
    {
      "cell_type": "code",
      "execution_count": 42,
      "metadata": {
        "colab": {
          "background_save": true
        },
        "id": "qGsZ03AXSMwv",
        "outputId": "ac87d692-a85e-4b41-b6ee-6bc193a0dfb3"
      },
      "outputs": [
        {
          "data": {
            "image/png": "[encoded data removed]",
            "text/plain": [
              "<Figure size 1500x500 with 2 Axes>"
            ]
          },
          "metadata": {},
          "output_type": "display_data"
        }
      ],
      "source": [
        "groups = df_top_word['sentiment'].unique()\n",
        "\n",
        "# Set up the plot\n",
        "fig, axes = plt.subplots(1, len(groups), figsize=(15, 5), squeeze=False)\n",
        "\n",
        "# Generate word clouds for each group\n",
        "for idx, group in enumerate(groups):\n",
        "    text = \" \".join(df_top_word[ df_top_word['sentiment'] == group]['token'])\n",
        "    wordcloud = WordCloud(width=400, height=400,\n",
        "                          background_color='white',\n",
        "                          colormap = 'plasma'\n",
        "                          ).generate(text)\n",
        "\n",
        "    # Display the word cloud\n",
        "    axes[0, idx].imshow(wordcloud, interpolation='bilinear')\n",
        "    axes[0, idx].set_title(f\"{group}\")\n",
        "    axes[0, idx].axis('off')\n",
        "\n",
        "plt.tight_layout()\n",
        "plt.show()"
      ]
    }
  ],
  "metadata": {
    "colab": {
      "provenance": []
    },
    "kernelspec": {
      "display_name": "base",
      "language": "python",
      "name": "python3"
    },
    "language_info": {
      "codemirror_mode": {
        "name": "ipython",
        "version": 3
      },
      "file_extension": ".py",
      "mimetype": "text/x-python",
      "name": "python",
      "nbconvert_exporter": "python",
      "pygments_lexer": "ipython3",
      "version": "3.12.7"
    },
    "widgets": {
      "application/vnd.jupyter.widget-state+json": {
        "00e031788c6845f19dcc8b7a1f37eec0": {
          "model_module": "@jupyter-widgets/controls",
          "model_module_version": "1.5.0",
          "model_name": "FloatProgressModel",
          "state": {
            "_dom_classes": [],
            "_model_module": "@jupyter-widgets/controls",
            "_model_module_version": "1.5.0",
            "_model_name": "FloatProgressModel",
            "_view_count": null,
            "_view_module": "@jupyter-widgets/controls",
            "_view_module_version": "1.5.0",
            "_view_name": "ProgressView",
            "bar_style": "success",
            "description": "",
            "description_tooltip": null,
            "layout": "IPY_MODEL_cdb64e46e2614ae1b24de2f560f3df97",
            "max": 1,
            "min": 0,
            "orientation": "horizontal",
            "style": "IPY_MODEL_f3a3b2184acd4aa180a54aeb357da67d",
            "value": 1
          }
        },
        "06ac72d03c50403c9a603b3cd0b63c6f": {
          "model_module": "@jupyter-widgets/base",
          "model_module_version": "1.2.0",
          "model_name": "LayoutModel",
          "state": {
            "_model_module": "@jupyter-widgets/base",
            "_model_module_version": "1.2.0",
            "_model_name": "LayoutModel",
            "_view_count": null,
            "_view_module": "@jupyter-widgets/base",
            "_view_module_version": "1.2.0",
            "_view_name": "LayoutView",
            "align_content": null,
            "align_items": null,
            "align_self": null,
            "border": null,
            "bottom": null,
            "display": null,
            "flex": null,
            "flex_flow": null,
            "grid_area": null,
            "grid_auto_columns": null,
            "grid_auto_flow": null,
            "grid_auto_rows": null,
            "grid_column": null,
            "grid_gap": null,
            "grid_row": null,
            "grid_template_areas": null,
            "grid_template_columns": null,
            "grid_template_rows": null,
            "height": null,
            "justify_content": null,
            "justify_items": null,
            "left": null,
            "margin": null,
            "max_height": null,
            "max_width": null,
            "min_height": null,
            "min_width": null,
            "object_fit": null,
            "object_position": null,
            "order": null,
            "overflow": null,
            "overflow_x": null,
            "overflow_y": null,
            "padding": null,
            "right": null,
            "top": null,
            "visibility": null,
            "width": null
          }
        },
        "0a5dfd819e454d31a58b75a909c8fce1": {
          "model_module": "@jupyter-widgets/controls",
          "model_module_version": "1.5.0",
          "model_name": "FloatProgressModel",
          "state": {
            "_dom_classes": [],
            "_model_module": "@jupyter-widgets/controls",
            "_model_module_version": "1.5.0",
            "_model_name": "FloatProgressModel",
            "_view_count": null,
            "_view_module": "@jupyter-widgets/controls",
            "_view_module_version": "1.5.0",
            "_view_name": "ProgressView",
            "bar_style": "success",
            "description": "",
            "description_tooltip": null,
            "layout": "IPY_MODEL_f10df7f93df54535a557bd3dff642e8e",
            "max": 1,
            "min": 0,
            "orientation": "horizontal",
            "style": "IPY_MODEL_f05ce9b0d0f643fcacc4370ee188c211",
            "value": 1
          }
        },
        "0fae67fffd864375b38b6651d80ae459": {
          "model_module": "@jupyter-widgets/base",
          "model_module_version": "1.2.0",
          "model_name": "LayoutModel",
          "state": {
            "_model_module": "@jupyter-widgets/base",
            "_model_module_version": "1.2.0",
            "_model_name": "LayoutModel",
            "_view_count": null,
            "_view_module": "@jupyter-widgets/base",
            "_view_module_version": "1.2.0",
            "_view_name": "LayoutView",
            "align_content": null,
            "align_items": null,
            "align_self": null,
            "border": null,
            "bottom": null,
            "display": null,
            "flex": null,
            "flex_flow": null,
            "grid_area": null,
            "grid_auto_columns": null,
            "grid_auto_flow": null,
            "grid_auto_rows": null,
            "grid_column": null,
            "grid_gap": null,
            "grid_row": null,
            "grid_template_areas": null,
            "grid_template_columns": null,
            "grid_template_rows": null,
            "height": null,
            "justify_content": null,
            "justify_items": null,
            "left": null,
            "margin": null,
            "max_height": null,
            "max_width": null,
            "min_height": null,
            "min_width": null,
            "object_fit": null,
            "object_position": null,
            "order": null,
            "overflow": null,
            "overflow_x": null,
            "overflow_y": null,
            "padding": null,
            "right": null,
            "top": null,
            "visibility": null,
            "width": null
          }
        },
        "112c5bbe086a4498b9c5c0e58ed6a697": {
          "model_module": "@jupyter-widgets/base",
          "model_module_version": "1.2.0",
          "model_name": "LayoutModel",
          "state": {
            "_model_module": "@jupyter-widgets/base",
            "_model_module_version": "1.2.0",
            "_model_name": "LayoutModel",
            "_view_count": null,
            "_view_module": "@jupyter-widgets/base",
            "_view_module_version": "1.2.0",
            "_view_name": "LayoutView",
            "align_content": null,
            "align_items": null,
            "align_self": null,
            "border": null,
            "bottom": null,
            "display": null,
            "flex": null,
            "flex_flow": null,
            "grid_area": null,
            "grid_auto_columns": null,
            "grid_auto_flow": null,
            "grid_auto_rows": null,
            "grid_column": null,
            "grid_gap": null,
            "grid_row": null,
            "grid_template_areas": null,
            "grid_template_columns": null,
            "grid_template_rows": null,
            "height": null,
            "justify_content": null,
            "justify_items": null,
            "left": null,
            "margin": null,
            "max_height": null,
            "max_width": null,
            "min_height": null,
            "min_width": null,
            "object_fit": null,
            "object_position": null,
            "order": null,
            "overflow": null,
            "overflow_x": null,
            "overflow_y": null,
            "padding": null,
            "right": null,
            "top": null,
            "visibility": null,
            "width": null
          }
        },
        "14f45660c73d4968b1d2d1a4ee2e9a11": {
          "model_module": "@jupyter-widgets/base",
          "model_module_version": "1.2.0",
          "model_name": "LayoutModel",
          "state": {
            "_model_module": "@jupyter-widgets/base",
            "_model_module_version": "1.2.0",
            "_model_name": "LayoutModel",
            "_view_count": null,
            "_view_module": "@jupyter-widgets/base",
            "_view_module_version": "1.2.0",
            "_view_name": "LayoutView",
            "align_content": null,
            "align_items": null,
            "align_self": null,
            "border": null,
            "bottom": null,
            "display": null,
            "flex": null,
            "flex_flow": null,
            "grid_area": null,
            "grid_auto_columns": null,
            "grid_auto_flow": null,
            "grid_auto_rows": null,
            "grid_column": null,
            "grid_gap": null,
            "grid_row": null,
            "grid_template_areas": null,
            "grid_template_columns": null,
            "grid_template_rows": null,
            "height": null,
            "justify_content": null,
            "justify_items": null,
            "left": null,
            "margin": null,
            "max_height": null,
            "max_width": null,
            "min_height": null,
            "min_width": null,
            "object_fit": null,
            "object_position": null,
            "order": null,
            "overflow": null,
            "overflow_x": null,
            "overflow_y": null,
            "padding": null,
            "right": null,
            "top": null,
            "visibility": null,
            "width": null
          }
        },
        "18f5529675cd495d9d2dfd424b12f04b": {
          "model_module": "@jupyter-widgets/controls",
          "model_module_version": "1.5.0",
          "model_name": "DescriptionStyleModel",
          "state": {
            "_model_module": "@jupyter-widgets/controls",
            "_model_module_version": "1.5.0",
            "_model_name": "DescriptionStyleModel",
            "_view_count": null,
            "_view_module": "@jupyter-widgets/base",
            "_view_module_version": "1.2.0",
            "_view_name": "StyleView",
            "description_width": ""
          }
        },
        "199392ee3bc64dad906643792313f609": {
          "model_module": "@jupyter-widgets/base",
          "model_module_version": "1.2.0",
          "model_name": "LayoutModel",
          "state": {
            "_model_module": "@jupyter-widgets/base",
            "_model_module_version": "1.2.0",
            "_model_name": "LayoutModel",
            "_view_count": null,
            "_view_module": "@jupyter-widgets/base",
            "_view_module_version": "1.2.0",
            "_view_name": "LayoutView",
            "align_content": null,
            "align_items": null,
            "align_self": null,
            "border": null,
            "bottom": null,
            "display": null,
            "flex": null,
            "flex_flow": null,
            "grid_area": null,
            "grid_auto_columns": null,
            "grid_auto_flow": null,
            "grid_auto_rows": null,
            "grid_column": null,
            "grid_gap": null,
            "grid_row": null,
            "grid_template_areas": null,
            "grid_template_columns": null,
            "grid_template_rows": null,
            "height": null,
            "justify_content": null,
            "justify_items": null,
            "left": null,
            "margin": null,
            "max_height": null,
            "max_width": null,
            "min_height": null,
            "min_width": null,
            "object_fit": null,
            "object_position": null,
            "order": null,
            "overflow": null,
            "overflow_x": null,
            "overflow_y": null,
            "padding": null,
            "right": null,
            "top": null,
            "visibility": null,
            "width": null
          }
        },
        "19c597b92f9f407d93b7c3097ec593d6": {
          "model_module": "@jupyter-widgets/controls",
          "model_module_version": "1.5.0",
          "model_name": "HBoxModel",
          "state": {
            "_dom_classes": [],
            "_model_module": "@jupyter-widgets/controls",
            "_model_module_version": "1.5.0",
            "_model_name": "HBoxModel",
            "_view_count": null,
            "_view_module": "@jupyter-widgets/controls",
            "_view_module_version": "1.5.0",
            "_view_name": "HBoxView",
            "box_style": "",
            "children": [
              "IPY_MODEL_a7656428a585409591020793464b0564",
              "IPY_MODEL_36a5df1a4fde45ab9da304b6a855d31f",
              "IPY_MODEL_f3fc330d8cfd46b5952193cebb479408"
            ],
            "layout": "IPY_MODEL_c099dfac0ce7451ea72182429a8e9043"
          }
        },
        "22d6ff7642624c378d59d8507ef458ff": {
          "model_module": "@jupyter-widgets/controls",
          "model_module_version": "1.5.0",
          "model_name": "HTMLModel",
          "state": {
            "_dom_classes": [],
            "_model_module": "@jupyter-widgets/controls",
            "_model_module_version": "1.5.0",
            "_model_name": "HTMLModel",
            "_view_count": null,
            "_view_module": "@jupyter-widgets/controls",
            "_view_module_version": "1.5.0",
            "_view_name": "HTMLView",
            "description": "",
            "description_tooltip": null,
            "layout": "IPY_MODEL_06ac72d03c50403c9a603b3cd0b63c6f",
            "placeholder": "​",
            "style": "IPY_MODEL_51c05ae2b020499ead4bed32d6db9491",
            "value": "pytorch_model.bin: 100%"
          }
        },
        "23bdb6cd826440eb8dc6db0da1420346": {
          "model_module": "@jupyter-widgets/controls",
          "model_module_version": "1.5.0",
          "model_name": "HTMLModel",
          "state": {
            "_dom_classes": [],
            "_model_module": "@jupyter-widgets/controls",
            "_model_module_version": "1.5.0",
            "_model_name": "HTMLModel",
            "_view_count": null,
            "_view_module": "@jupyter-widgets/controls",
            "_view_module_version": "1.5.0",
            "_view_name": "HTMLView",
            "description": "",
            "description_tooltip": null,
            "layout": "IPY_MODEL_6388e53216534b4fa0f792dc19e49fc9",
            "placeholder": "​",
            "style": "IPY_MODEL_c73bc6f4ab5740278fe80bb3f59fca9c",
            "value": "config.json: 100%"
          }
        },
        "285b9d3f363445a1aeb1184de54b5fca": {
          "model_module": "@jupyter-widgets/controls",
          "model_module_version": "1.5.0",
          "model_name": "DescriptionStyleModel",
          "state": {
            "_model_module": "@jupyter-widgets/controls",
            "_model_module_version": "1.5.0",
            "_model_name": "DescriptionStyleModel",
            "_view_count": null,
            "_view_module": "@jupyter-widgets/base",
            "_view_module_version": "1.2.0",
            "_view_name": "StyleView",
            "description_width": ""
          }
        },
        "2af80e1c627543f490930630a46c8c22": {
          "model_module": "@jupyter-widgets/controls",
          "model_module_version": "1.5.0",
          "model_name": "ProgressStyleModel",
          "state": {
            "_model_module": "@jupyter-widgets/controls",
            "_model_module_version": "1.5.0",
            "_model_name": "ProgressStyleModel",
            "_view_count": null,
            "_view_module": "@jupyter-widgets/base",
            "_view_module_version": "1.2.0",
            "_view_name": "StyleView",
            "bar_color": null,
            "description_width": ""
          }
        },
        "2c811c5e439e48db8a40f652e4f3b574": {
          "model_module": "@jupyter-widgets/controls",
          "model_module_version": "1.5.0",
          "model_name": "HTMLModel",
          "state": {
            "_dom_classes": [],
            "_model_module": "@jupyter-widgets/controls",
            "_model_module_version": "1.5.0",
            "_model_name": "HTMLModel",
            "_view_count": null,
            "_view_module": "@jupyter-widgets/controls",
            "_view_module_version": "1.5.0",
            "_view_name": "HTMLView",
            "description": "",
            "description_tooltip": null,
            "layout": "IPY_MODEL_773a5542b1854f1495dc33078abfa4fe",
            "placeholder": "​",
            "style": "IPY_MODEL_e547b224f9c14fe3a66e2d179b6d9ed3",
            "value": " 499M/499M [00:10&lt;00:00, 35.6MB/s]"
          }
        },
        "36a5df1a4fde45ab9da304b6a855d31f": {
          "model_module": "@jupyter-widgets/controls",
          "model_module_version": "1.5.0",
          "model_name": "FloatProgressModel",
          "state": {
            "_dom_classes": [],
            "_model_module": "@jupyter-widgets/controls",
            "_model_module_version": "1.5.0",
            "_model_name": "FloatProgressModel",
            "_view_count": null,
            "_view_module": "@jupyter-widgets/controls",
            "_view_module_version": "1.5.0",
            "_view_name": "ProgressView",
            "bar_style": "success",
            "description": "",
            "description_tooltip": null,
            "layout": "IPY_MODEL_69eb2b68f0784b16a8196422e626b8b4",
            "max": 150,
            "min": 0,
            "orientation": "horizontal",
            "style": "IPY_MODEL_7799ce4afe4f425fa536646ef8f11dea",
            "value": 150
          }
        },
        "373fa12a1b004526b1e3c2ceef733221": {
          "model_module": "@jupyter-widgets/base",
          "model_module_version": "1.2.0",
          "model_name": "LayoutModel",
          "state": {
            "_model_module": "@jupyter-widgets/base",
            "_model_module_version": "1.2.0",
            "_model_name": "LayoutModel",
            "_view_count": null,
            "_view_module": "@jupyter-widgets/base",
            "_view_module_version": "1.2.0",
            "_view_name": "LayoutView",
            "align_content": null,
            "align_items": null,
            "align_self": null,
            "border": null,
            "bottom": null,
            "display": null,
            "flex": null,
            "flex_flow": null,
            "grid_area": null,
            "grid_auto_columns": null,
            "grid_auto_flow": null,
            "grid_auto_rows": null,
            "grid_column": null,
            "grid_gap": null,
            "grid_row": null,
            "grid_template_areas": null,
            "grid_template_columns": null,
            "grid_template_rows": null,
            "height": null,
            "justify_content": null,
            "justify_items": null,
            "left": null,
            "margin": null,
            "max_height": null,
            "max_width": null,
            "min_height": null,
            "min_width": null,
            "object_fit": null,
            "object_position": null,
            "order": null,
            "overflow": null,
            "overflow_x": null,
            "overflow_y": null,
            "padding": null,
            "right": null,
            "top": null,
            "visibility": null,
            "width": null
          }
        },
        "430e895fc5cf4db8a2661b859a202959": {
          "model_module": "@jupyter-widgets/controls",
          "model_module_version": "1.5.0",
          "model_name": "ProgressStyleModel",
          "state": {
            "_model_module": "@jupyter-widgets/controls",
            "_model_module_version": "1.5.0",
            "_model_name": "ProgressStyleModel",
            "_view_count": null,
            "_view_module": "@jupyter-widgets/base",
            "_view_module_version": "1.2.0",
            "_view_name": "StyleView",
            "bar_color": null,
            "description_width": ""
          }
        },
        "461aa0678b204bcdaefd37da71d36718": {
          "model_module": "@jupyter-widgets/controls",
          "model_module_version": "1.5.0",
          "model_name": "FloatProgressModel",
          "state": {
            "_dom_classes": [],
            "_model_module": "@jupyter-widgets/controls",
            "_model_module_version": "1.5.0",
            "_model_name": "FloatProgressModel",
            "_view_count": null,
            "_view_module": "@jupyter-widgets/controls",
            "_view_module_version": "1.5.0",
            "_view_name": "ProgressView",
            "bar_style": "success",
            "description": "",
            "description_tooltip": null,
            "layout": "IPY_MODEL_199392ee3bc64dad906643792313f609",
            "max": 747,
            "min": 0,
            "orientation": "horizontal",
            "style": "IPY_MODEL_2af80e1c627543f490930630a46c8c22",
            "value": 747
          }
        },
        "51c05ae2b020499ead4bed32d6db9491": {
          "model_module": "@jupyter-widgets/controls",
          "model_module_version": "1.5.0",
          "model_name": "DescriptionStyleModel",
          "state": {
            "_model_module": "@jupyter-widgets/controls",
            "_model_module_version": "1.5.0",
            "_model_name": "DescriptionStyleModel",
            "_view_count": null,
            "_view_module": "@jupyter-widgets/base",
            "_view_module_version": "1.2.0",
            "_view_name": "StyleView",
            "description_width": ""
          }
        },
        "5bd64297d23844f7a167ccd30711254f": {
          "model_module": "@jupyter-widgets/base",
          "model_module_version": "1.2.0",
          "model_name": "LayoutModel",
          "state": {
            "_model_module": "@jupyter-widgets/base",
            "_model_module_version": "1.2.0",
            "_model_name": "LayoutModel",
            "_view_count": null,
            "_view_module": "@jupyter-widgets/base",
            "_view_module_version": "1.2.0",
            "_view_name": "LayoutView",
            "align_content": null,
            "align_items": null,
            "align_self": null,
            "border": null,
            "bottom": null,
            "display": null,
            "flex": null,
            "flex_flow": null,
            "grid_area": null,
            "grid_auto_columns": null,
            "grid_auto_flow": null,
            "grid_auto_rows": null,
            "grid_column": null,
            "grid_gap": null,
            "grid_row": null,
            "grid_template_areas": null,
            "grid_template_columns": null,
            "grid_template_rows": null,
            "height": null,
            "justify_content": null,
            "justify_items": null,
            "left": null,
            "margin": null,
            "max_height": null,
            "max_width": null,
            "min_height": null,
            "min_width": null,
            "object_fit": null,
            "object_position": null,
            "order": null,
            "overflow": null,
            "overflow_x": null,
            "overflow_y": null,
            "padding": null,
            "right": null,
            "top": null,
            "visibility": null,
            "width": null
          }
        },
        "5f8df13f2750416a975aef2005bf2358": {
          "model_module": "@jupyter-widgets/controls",
          "model_module_version": "1.5.0",
          "model_name": "HTMLModel",
          "state": {
            "_dom_classes": [],
            "_model_module": "@jupyter-widgets/controls",
            "_model_module_version": "1.5.0",
            "_model_name": "HTMLModel",
            "_view_count": null,
            "_view_module": "@jupyter-widgets/controls",
            "_view_module_version": "1.5.0",
            "_view_name": "HTMLView",
            "description": "",
            "description_tooltip": null,
            "layout": "IPY_MODEL_0fae67fffd864375b38b6651d80ae459",
            "placeholder": "​",
            "style": "IPY_MODEL_bd44cf183ea0489a99e8e1f762dac034",
            "value": " 747/747 [00:00&lt;00:00, 45.9kB/s]"
          }
        },
        "61cfaf9cccab4966a386d509e76daa2e": {
          "model_module": "@jupyter-widgets/controls",
          "model_module_version": "1.5.0",
          "model_name": "HBoxModel",
          "state": {
            "_dom_classes": [],
            "_model_module": "@jupyter-widgets/controls",
            "_model_module_version": "1.5.0",
            "_model_name": "HBoxModel",
            "_view_count": null,
            "_view_module": "@jupyter-widgets/controls",
            "_view_module_version": "1.5.0",
            "_view_name": "HBoxView",
            "box_style": "",
            "children": [
              "IPY_MODEL_e400f119a53b4f1db3507b698f50d98e",
              "IPY_MODEL_00e031788c6845f19dcc8b7a1f37eec0",
              "IPY_MODEL_7ac5539d4f434ab688d481acec371c05"
            ],
            "layout": "IPY_MODEL_373fa12a1b004526b1e3c2ceef733221"
          }
        },
        "6388e53216534b4fa0f792dc19e49fc9": {
          "model_module": "@jupyter-widgets/base",
          "model_module_version": "1.2.0",
          "model_name": "LayoutModel",
          "state": {
            "_model_module": "@jupyter-widgets/base",
            "_model_module_version": "1.2.0",
            "_model_name": "LayoutModel",
            "_view_count": null,
            "_view_module": "@jupyter-widgets/base",
            "_view_module_version": "1.2.0",
            "_view_name": "LayoutView",
            "align_content": null,
            "align_items": null,
            "align_self": null,
            "border": null,
            "bottom": null,
            "display": null,
            "flex": null,
            "flex_flow": null,
            "grid_area": null,
            "grid_auto_columns": null,
            "grid_auto_flow": null,
            "grid_auto_rows": null,
            "grid_column": null,
            "grid_gap": null,
            "grid_row": null,
            "grid_template_areas": null,
            "grid_template_columns": null,
            "grid_template_rows": null,
            "height": null,
            "justify_content": null,
            "justify_items": null,
            "left": null,
            "margin": null,
            "max_height": null,
            "max_width": null,
            "min_height": null,
            "min_width": null,
            "object_fit": null,
            "object_position": null,
            "order": null,
            "overflow": null,
            "overflow_x": null,
            "overflow_y": null,
            "padding": null,
            "right": null,
            "top": null,
            "visibility": null,
            "width": null
          }
        },
        "6684031e14b54ccfb378619d20a62323": {
          "model_module": "@jupyter-widgets/base",
          "model_module_version": "1.2.0",
          "model_name": "LayoutModel",
          "state": {
            "_model_module": "@jupyter-widgets/base",
            "_model_module_version": "1.2.0",
            "_model_name": "LayoutModel",
            "_view_count": null,
            "_view_module": "@jupyter-widgets/base",
            "_view_module_version": "1.2.0",
            "_view_name": "LayoutView",
            "align_content": null,
            "align_items": null,
            "align_self": null,
            "border": null,
            "bottom": null,
            "display": null,
            "flex": null,
            "flex_flow": null,
            "grid_area": null,
            "grid_auto_columns": null,
            "grid_auto_flow": null,
            "grid_auto_rows": null,
            "grid_column": null,
            "grid_gap": null,
            "grid_row": null,
            "grid_template_areas": null,
            "grid_template_columns": null,
            "grid_template_rows": null,
            "height": null,
            "justify_content": null,
            "justify_items": null,
            "left": null,
            "margin": null,
            "max_height": null,
            "max_width": null,
            "min_height": null,
            "min_width": null,
            "object_fit": null,
            "object_position": null,
            "order": null,
            "overflow": null,
            "overflow_x": null,
            "overflow_y": null,
            "padding": null,
            "right": null,
            "top": null,
            "visibility": null,
            "width": null
          }
        },
        "69eb2b68f0784b16a8196422e626b8b4": {
          "model_module": "@jupyter-widgets/base",
          "model_module_version": "1.2.0",
          "model_name": "LayoutModel",
          "state": {
            "_model_module": "@jupyter-widgets/base",
            "_model_module_version": "1.2.0",
            "_model_name": "LayoutModel",
            "_view_count": null,
            "_view_module": "@jupyter-widgets/base",
            "_view_module_version": "1.2.0",
            "_view_name": "LayoutView",
            "align_content": null,
            "align_items": null,
            "align_self": null,
            "border": null,
            "bottom": null,
            "display": null,
            "flex": null,
            "flex_flow": null,
            "grid_area": null,
            "grid_auto_columns": null,
            "grid_auto_flow": null,
            "grid_auto_rows": null,
            "grid_column": null,
            "grid_gap": null,
            "grid_row": null,
            "grid_template_areas": null,
            "grid_template_columns": null,
            "grid_template_rows": null,
            "height": null,
            "justify_content": null,
            "justify_items": null,
            "left": null,
            "margin": null,
            "max_height": null,
            "max_width": null,
            "min_height": null,
            "min_width": null,
            "object_fit": null,
            "object_position": null,
            "order": null,
            "overflow": null,
            "overflow_x": null,
            "overflow_y": null,
            "padding": null,
            "right": null,
            "top": null,
            "visibility": null,
            "width": null
          }
        },
        "773a5542b1854f1495dc33078abfa4fe": {
          "model_module": "@jupyter-widgets/base",
          "model_module_version": "1.2.0",
          "model_name": "LayoutModel",
          "state": {
            "_model_module": "@jupyter-widgets/base",
            "_model_module_version": "1.2.0",
            "_model_name": "LayoutModel",
            "_view_count": null,
            "_view_module": "@jupyter-widgets/base",
            "_view_module_version": "1.2.0",
            "_view_name": "LayoutView",
            "align_content": null,
            "align_items": null,
            "align_self": null,
            "border": null,
            "bottom": null,
            "display": null,
            "flex": null,
            "flex_flow": null,
            "grid_area": null,
            "grid_auto_columns": null,
            "grid_auto_flow": null,
            "grid_auto_rows": null,
            "grid_column": null,
            "grid_gap": null,
            "grid_row": null,
            "grid_template_areas": null,
            "grid_template_columns": null,
            "grid_template_rows": null,
            "height": null,
            "justify_content": null,
            "justify_items": null,
            "left": null,
            "margin": null,
            "max_height": null,
            "max_width": null,
            "min_height": null,
            "min_width": null,
            "object_fit": null,
            "object_position": null,
            "order": null,
            "overflow": null,
            "overflow_x": null,
            "overflow_y": null,
            "padding": null,
            "right": null,
            "top": null,
            "visibility": null,
            "width": null
          }
        },
        "7799ce4afe4f425fa536646ef8f11dea": {
          "model_module": "@jupyter-widgets/controls",
          "model_module_version": "1.5.0",
          "model_name": "ProgressStyleModel",
          "state": {
            "_model_module": "@jupyter-widgets/controls",
            "_model_module_version": "1.5.0",
            "_model_name": "ProgressStyleModel",
            "_view_count": null,
            "_view_module": "@jupyter-widgets/base",
            "_view_module_version": "1.2.0",
            "_view_name": "StyleView",
            "bar_color": null,
            "description_width": ""
          }
        },
        "78ada58047ff45eabe27958dda0cc75c": {
          "model_module": "@jupyter-widgets/base",
          "model_module_version": "1.2.0",
          "model_name": "LayoutModel",
          "state": {
            "_model_module": "@jupyter-widgets/base",
            "_model_module_version": "1.2.0",
            "_model_name": "LayoutModel",
            "_view_count": null,
            "_view_module": "@jupyter-widgets/base",
            "_view_module_version": "1.2.0",
            "_view_name": "LayoutView",
            "align_content": null,
            "align_items": null,
            "align_self": null,
            "border": null,
            "bottom": null,
            "display": null,
            "flex": null,
            "flex_flow": null,
            "grid_area": null,
            "grid_auto_columns": null,
            "grid_auto_flow": null,
            "grid_auto_rows": null,
            "grid_column": null,
            "grid_gap": null,
            "grid_row": null,
            "grid_template_areas": null,
            "grid_template_columns": null,
            "grid_template_rows": null,
            "height": null,
            "justify_content": null,
            "justify_items": null,
            "left": null,
            "margin": null,
            "max_height": null,
            "max_width": null,
            "min_height": null,
            "min_width": null,
            "object_fit": null,
            "object_position": null,
            "order": null,
            "overflow": null,
            "overflow_x": null,
            "overflow_y": null,
            "padding": null,
            "right": null,
            "top": null,
            "visibility": null,
            "width": null
          }
        },
        "7ac5539d4f434ab688d481acec371c05": {
          "model_module": "@jupyter-widgets/controls",
          "model_module_version": "1.5.0",
          "model_name": "HTMLModel",
          "state": {
            "_dom_classes": [],
            "_model_module": "@jupyter-widgets/controls",
            "_model_module_version": "1.5.0",
            "_model_name": "HTMLModel",
            "_view_count": null,
            "_view_module": "@jupyter-widgets/controls",
            "_view_module_version": "1.5.0",
            "_view_name": "HTMLView",
            "description": "",
            "description_tooltip": null,
            "layout": "IPY_MODEL_c8fb56340a1843019bc2a466e5446251",
            "placeholder": "​",
            "style": "IPY_MODEL_ae9769f9805c4c46a6b8a7b1efdbd6c5",
            "value": " 456k/? [00:00&lt;00:00, 13.4MB/s]"
          }
        },
        "8349336d64fd4d0aa33211f08bfb41d4": {
          "model_module": "@jupyter-widgets/controls",
          "model_module_version": "1.5.0",
          "model_name": "HTMLModel",
          "state": {
            "_dom_classes": [],
            "_model_module": "@jupyter-widgets/controls",
            "_model_module_version": "1.5.0",
            "_model_name": "HTMLModel",
            "_view_count": null,
            "_view_module": "@jupyter-widgets/controls",
            "_view_module_version": "1.5.0",
            "_view_name": "HTMLView",
            "description": "",
            "description_tooltip": null,
            "layout": "IPY_MODEL_c47b3943316a42c88fa734b9d671420f",
            "placeholder": "​",
            "style": "IPY_MODEL_dff6f9e796244fa687dfbc9a97c5e932",
            "value": " 899k/? [00:00&lt;00:00, 13.9MB/s]"
          }
        },
        "8b2714117347447da3ddc877b20a0088": {
          "model_module": "@jupyter-widgets/controls",
          "model_module_version": "1.5.0",
          "model_name": "HBoxModel",
          "state": {
            "_dom_classes": [],
            "_model_module": "@jupyter-widgets/controls",
            "_model_module_version": "1.5.0",
            "_model_name": "HBoxModel",
            "_view_count": null,
            "_view_module": "@jupyter-widgets/controls",
            "_view_module_version": "1.5.0",
            "_view_name": "HBoxView",
            "box_style": "",
            "children": [
              "IPY_MODEL_23bdb6cd826440eb8dc6db0da1420346",
              "IPY_MODEL_461aa0678b204bcdaefd37da71d36718",
              "IPY_MODEL_5f8df13f2750416a975aef2005bf2358"
            ],
            "layout": "IPY_MODEL_9ad09db1b32b4935a686471a749b19fb"
          }
        },
        "94610e2bb10245b2b60e9c7e17604afd": {
          "model_module": "@jupyter-widgets/base",
          "model_module_version": "1.2.0",
          "model_name": "LayoutModel",
          "state": {
            "_model_module": "@jupyter-widgets/base",
            "_model_module_version": "1.2.0",
            "_model_name": "LayoutModel",
            "_view_count": null,
            "_view_module": "@jupyter-widgets/base",
            "_view_module_version": "1.2.0",
            "_view_name": "LayoutView",
            "align_content": null,
            "align_items": null,
            "align_self": null,
            "border": null,
            "bottom": null,
            "display": null,
            "flex": null,
            "flex_flow": null,
            "grid_area": null,
            "grid_auto_columns": null,
            "grid_auto_flow": null,
            "grid_auto_rows": null,
            "grid_column": null,
            "grid_gap": null,
            "grid_row": null,
            "grid_template_areas": null,
            "grid_template_columns": null,
            "grid_template_rows": null,
            "height": null,
            "justify_content": null,
            "justify_items": null,
            "left": null,
            "margin": null,
            "max_height": null,
            "max_width": null,
            "min_height": null,
            "min_width": null,
            "object_fit": null,
            "object_position": null,
            "order": null,
            "overflow": null,
            "overflow_x": null,
            "overflow_y": null,
            "padding": null,
            "right": null,
            "top": null,
            "visibility": null,
            "width": null
          }
        },
        "97d49fb3381341d6bb5f13e4650dec5b": {
          "model_module": "@jupyter-widgets/base",
          "model_module_version": "1.2.0",
          "model_name": "LayoutModel",
          "state": {
            "_model_module": "@jupyter-widgets/base",
            "_model_module_version": "1.2.0",
            "_model_name": "LayoutModel",
            "_view_count": null,
            "_view_module": "@jupyter-widgets/base",
            "_view_module_version": "1.2.0",
            "_view_name": "LayoutView",
            "align_content": null,
            "align_items": null,
            "align_self": null,
            "border": null,
            "bottom": null,
            "display": null,
            "flex": null,
            "flex_flow": null,
            "grid_area": null,
            "grid_auto_columns": null,
            "grid_auto_flow": null,
            "grid_auto_rows": null,
            "grid_column": null,
            "grid_gap": null,
            "grid_row": null,
            "grid_template_areas": null,
            "grid_template_columns": null,
            "grid_template_rows": null,
            "height": null,
            "justify_content": null,
            "justify_items": null,
            "left": null,
            "margin": null,
            "max_height": null,
            "max_width": null,
            "min_height": null,
            "min_width": null,
            "object_fit": null,
            "object_position": null,
            "order": null,
            "overflow": null,
            "overflow_x": null,
            "overflow_y": null,
            "padding": null,
            "right": null,
            "top": null,
            "visibility": null,
            "width": null
          }
        },
        "9ad09db1b32b4935a686471a749b19fb": {
          "model_module": "@jupyter-widgets/base",
          "model_module_version": "1.2.0",
          "model_name": "LayoutModel",
          "state": {
            "_model_module": "@jupyter-widgets/base",
            "_model_module_version": "1.2.0",
            "_model_name": "LayoutModel",
            "_view_count": null,
            "_view_module": "@jupyter-widgets/base",
            "_view_module_version": "1.2.0",
            "_view_name": "LayoutView",
            "align_content": null,
            "align_items": null,
            "align_self": null,
            "border": null,
            "bottom": null,
            "display": null,
            "flex": null,
            "flex_flow": null,
            "grid_area": null,
            "grid_auto_columns": null,
            "grid_auto_flow": null,
            "grid_auto_rows": null,
            "grid_column": null,
            "grid_gap": null,
            "grid_row": null,
            "grid_template_areas": null,
            "grid_template_columns": null,
            "grid_template_rows": null,
            "height": null,
            "justify_content": null,
            "justify_items": null,
            "left": null,
            "margin": null,
            "max_height": null,
            "max_width": null,
            "min_height": null,
            "min_width": null,
            "object_fit": null,
            "object_position": null,
            "order": null,
            "overflow": null,
            "overflow_x": null,
            "overflow_y": null,
            "padding": null,
            "right": null,
            "top": null,
            "visibility": null,
            "width": null
          }
        },
        "9c2663d8b182479380ae801a4821fcdd": {
          "model_module": "@jupyter-widgets/controls",
          "model_module_version": "1.5.0",
          "model_name": "FloatProgressModel",
          "state": {
            "_dom_classes": [],
            "_model_module": "@jupyter-widgets/controls",
            "_model_module_version": "1.5.0",
            "_model_name": "FloatProgressModel",
            "_view_count": null,
            "_view_module": "@jupyter-widgets/controls",
            "_view_module_version": "1.5.0",
            "_view_name": "ProgressView",
            "bar_style": "success",
            "description": "",
            "description_tooltip": null,
            "layout": "IPY_MODEL_97d49fb3381341d6bb5f13e4650dec5b",
            "max": 498679497,
            "min": 0,
            "orientation": "horizontal",
            "style": "IPY_MODEL_430e895fc5cf4db8a2661b859a202959",
            "value": 498679497
          }
        },
        "a7656428a585409591020793464b0564": {
          "model_module": "@jupyter-widgets/controls",
          "model_module_version": "1.5.0",
          "model_name": "HTMLModel",
          "state": {
            "_dom_classes": [],
            "_model_module": "@jupyter-widgets/controls",
            "_model_module_version": "1.5.0",
            "_model_name": "HTMLModel",
            "_view_count": null,
            "_view_module": "@jupyter-widgets/controls",
            "_view_module_version": "1.5.0",
            "_view_name": "HTMLView",
            "description": "",
            "description_tooltip": null,
            "layout": "IPY_MODEL_112c5bbe086a4498b9c5c0e58ed6a697",
            "placeholder": "​",
            "style": "IPY_MODEL_285b9d3f363445a1aeb1184de54b5fca",
            "value": "special_tokens_map.json: 100%"
          }
        },
        "ae9769f9805c4c46a6b8a7b1efdbd6c5": {
          "model_module": "@jupyter-widgets/controls",
          "model_module_version": "1.5.0",
          "model_name": "DescriptionStyleModel",
          "state": {
            "_model_module": "@jupyter-widgets/controls",
            "_model_module_version": "1.5.0",
            "_model_name": "DescriptionStyleModel",
            "_view_count": null,
            "_view_module": "@jupyter-widgets/base",
            "_view_module_version": "1.2.0",
            "_view_name": "StyleView",
            "description_width": ""
          }
        },
        "bd44cf183ea0489a99e8e1f762dac034": {
          "model_module": "@jupyter-widgets/controls",
          "model_module_version": "1.5.0",
          "model_name": "DescriptionStyleModel",
          "state": {
            "_model_module": "@jupyter-widgets/controls",
            "_model_module_version": "1.5.0",
            "_model_name": "DescriptionStyleModel",
            "_view_count": null,
            "_view_module": "@jupyter-widgets/base",
            "_view_module_version": "1.2.0",
            "_view_name": "StyleView",
            "description_width": ""
          }
        },
        "c099dfac0ce7451ea72182429a8e9043": {
          "model_module": "@jupyter-widgets/base",
          "model_module_version": "1.2.0",
          "model_name": "LayoutModel",
          "state": {
            "_model_module": "@jupyter-widgets/base",
            "_model_module_version": "1.2.0",
            "_model_name": "LayoutModel",
            "_view_count": null,
            "_view_module": "@jupyter-widgets/base",
            "_view_module_version": "1.2.0",
            "_view_name": "LayoutView",
            "align_content": null,
            "align_items": null,
            "align_self": null,
            "border": null,
            "bottom": null,
            "display": null,
            "flex": null,
            "flex_flow": null,
            "grid_area": null,
            "grid_auto_columns": null,
            "grid_auto_flow": null,
            "grid_auto_rows": null,
            "grid_column": null,
            "grid_gap": null,
            "grid_row": null,
            "grid_template_areas": null,
            "grid_template_columns": null,
            "grid_template_rows": null,
            "height": null,
            "justify_content": null,
            "justify_items": null,
            "left": null,
            "margin": null,
            "max_height": null,
            "max_width": null,
            "min_height": null,
            "min_width": null,
            "object_fit": null,
            "object_position": null,
            "order": null,
            "overflow": null,
            "overflow_x": null,
            "overflow_y": null,
            "padding": null,
            "right": null,
            "top": null,
            "visibility": null,
            "width": null
          }
        },
        "c47b3943316a42c88fa734b9d671420f": {
          "model_module": "@jupyter-widgets/base",
          "model_module_version": "1.2.0",
          "model_name": "LayoutModel",
          "state": {
            "_model_module": "@jupyter-widgets/base",
            "_model_module_version": "1.2.0",
            "_model_name": "LayoutModel",
            "_view_count": null,
            "_view_module": "@jupyter-widgets/base",
            "_view_module_version": "1.2.0",
            "_view_name": "LayoutView",
            "align_content": null,
            "align_items": null,
            "align_self": null,
            "border": null,
            "bottom": null,
            "display": null,
            "flex": null,
            "flex_flow": null,
            "grid_area": null,
            "grid_auto_columns": null,
            "grid_auto_flow": null,
            "grid_auto_rows": null,
            "grid_column": null,
            "grid_gap": null,
            "grid_row": null,
            "grid_template_areas": null,
            "grid_template_columns": null,
            "grid_template_rows": null,
            "height": null,
            "justify_content": null,
            "justify_items": null,
            "left": null,
            "margin": null,
            "max_height": null,
            "max_width": null,
            "min_height": null,
            "min_width": null,
            "object_fit": null,
            "object_position": null,
            "order": null,
            "overflow": null,
            "overflow_x": null,
            "overflow_y": null,
            "padding": null,
            "right": null,
            "top": null,
            "visibility": null,
            "width": null
          }
        },
        "c73bc6f4ab5740278fe80bb3f59fca9c": {
          "model_module": "@jupyter-widgets/controls",
          "model_module_version": "1.5.0",
          "model_name": "DescriptionStyleModel",
          "state": {
            "_model_module": "@jupyter-widgets/controls",
            "_model_module_version": "1.5.0",
            "_model_name": "DescriptionStyleModel",
            "_view_count": null,
            "_view_module": "@jupyter-widgets/base",
            "_view_module_version": "1.2.0",
            "_view_name": "StyleView",
            "description_width": ""
          }
        },
        "c8d67d180c364cfdae6808a54c1e2ff9": {
          "model_module": "@jupyter-widgets/controls",
          "model_module_version": "1.5.0",
          "model_name": "HBoxModel",
          "state": {
            "_dom_classes": [],
            "_model_module": "@jupyter-widgets/controls",
            "_model_module_version": "1.5.0",
            "_model_name": "HBoxModel",
            "_view_count": null,
            "_view_module": "@jupyter-widgets/controls",
            "_view_module_version": "1.5.0",
            "_view_name": "HBoxView",
            "box_style": "",
            "children": [
              "IPY_MODEL_22d6ff7642624c378d59d8507ef458ff",
              "IPY_MODEL_9c2663d8b182479380ae801a4821fcdd",
              "IPY_MODEL_2c811c5e439e48db8a40f652e4f3b574"
            ],
            "layout": "IPY_MODEL_94610e2bb10245b2b60e9c7e17604afd"
          }
        },
        "c8fb56340a1843019bc2a466e5446251": {
          "model_module": "@jupyter-widgets/base",
          "model_module_version": "1.2.0",
          "model_name": "LayoutModel",
          "state": {
            "_model_module": "@jupyter-widgets/base",
            "_model_module_version": "1.2.0",
            "_model_name": "LayoutModel",
            "_view_count": null,
            "_view_module": "@jupyter-widgets/base",
            "_view_module_version": "1.2.0",
            "_view_name": "LayoutView",
            "align_content": null,
            "align_items": null,
            "align_self": null,
            "border": null,
            "bottom": null,
            "display": null,
            "flex": null,
            "flex_flow": null,
            "grid_area": null,
            "grid_auto_columns": null,
            "grid_auto_flow": null,
            "grid_auto_rows": null,
            "grid_column": null,
            "grid_gap": null,
            "grid_row": null,
            "grid_template_areas": null,
            "grid_template_columns": null,
            "grid_template_rows": null,
            "height": null,
            "justify_content": null,
            "justify_items": null,
            "left": null,
            "margin": null,
            "max_height": null,
            "max_width": null,
            "min_height": null,
            "min_width": null,
            "object_fit": null,
            "object_position": null,
            "order": null,
            "overflow": null,
            "overflow_x": null,
            "overflow_y": null,
            "padding": null,
            "right": null,
            "top": null,
            "visibility": null,
            "width": null
          }
        },
        "cdb64e46e2614ae1b24de2f560f3df97": {
          "model_module": "@jupyter-widgets/base",
          "model_module_version": "1.2.0",
          "model_name": "LayoutModel",
          "state": {
            "_model_module": "@jupyter-widgets/base",
            "_model_module_version": "1.2.0",
            "_model_name": "LayoutModel",
            "_view_count": null,
            "_view_module": "@jupyter-widgets/base",
            "_view_module_version": "1.2.0",
            "_view_name": "LayoutView",
            "align_content": null,
            "align_items": null,
            "align_self": null,
            "border": null,
            "bottom": null,
            "display": null,
            "flex": null,
            "flex_flow": null,
            "grid_area": null,
            "grid_auto_columns": null,
            "grid_auto_flow": null,
            "grid_auto_rows": null,
            "grid_column": null,
            "grid_gap": null,
            "grid_row": null,
            "grid_template_areas": null,
            "grid_template_columns": null,
            "grid_template_rows": null,
            "height": null,
            "justify_content": null,
            "justify_items": null,
            "left": null,
            "margin": null,
            "max_height": null,
            "max_width": null,
            "min_height": null,
            "min_width": null,
            "object_fit": null,
            "object_position": null,
            "order": null,
            "overflow": null,
            "overflow_x": null,
            "overflow_y": null,
            "padding": null,
            "right": null,
            "top": null,
            "visibility": null,
            "width": "20px"
          }
        },
        "d3fb576b91a1424bb26e70fef2afe6a8": {
          "model_module": "@jupyter-widgets/controls",
          "model_module_version": "1.5.0",
          "model_name": "DescriptionStyleModel",
          "state": {
            "_model_module": "@jupyter-widgets/controls",
            "_model_module_version": "1.5.0",
            "_model_name": "DescriptionStyleModel",
            "_view_count": null,
            "_view_module": "@jupyter-widgets/base",
            "_view_module_version": "1.2.0",
            "_view_name": "StyleView",
            "description_width": ""
          }
        },
        "da240dadb099430c8529a5de50c9525b": {
          "model_module": "@jupyter-widgets/controls",
          "model_module_version": "1.5.0",
          "model_name": "DescriptionStyleModel",
          "state": {
            "_model_module": "@jupyter-widgets/controls",
            "_model_module_version": "1.5.0",
            "_model_name": "DescriptionStyleModel",
            "_view_count": null,
            "_view_module": "@jupyter-widgets/base",
            "_view_module_version": "1.2.0",
            "_view_name": "StyleView",
            "description_width": ""
          }
        },
        "dff6f9e796244fa687dfbc9a97c5e932": {
          "model_module": "@jupyter-widgets/controls",
          "model_module_version": "1.5.0",
          "model_name": "DescriptionStyleModel",
          "state": {
            "_model_module": "@jupyter-widgets/controls",
            "_model_module_version": "1.5.0",
            "_model_name": "DescriptionStyleModel",
            "_view_count": null,
            "_view_module": "@jupyter-widgets/base",
            "_view_module_version": "1.2.0",
            "_view_name": "StyleView",
            "description_width": ""
          }
        },
        "e400f119a53b4f1db3507b698f50d98e": {
          "model_module": "@jupyter-widgets/controls",
          "model_module_version": "1.5.0",
          "model_name": "HTMLModel",
          "state": {
            "_dom_classes": [],
            "_model_module": "@jupyter-widgets/controls",
            "_model_module_version": "1.5.0",
            "_model_name": "HTMLModel",
            "_view_count": null,
            "_view_module": "@jupyter-widgets/controls",
            "_view_module_version": "1.5.0",
            "_view_name": "HTMLView",
            "description": "",
            "description_tooltip": null,
            "layout": "IPY_MODEL_78ada58047ff45eabe27958dda0cc75c",
            "placeholder": "​",
            "style": "IPY_MODEL_d3fb576b91a1424bb26e70fef2afe6a8",
            "value": "merges.txt: "
          }
        },
        "e547b224f9c14fe3a66e2d179b6d9ed3": {
          "model_module": "@jupyter-widgets/controls",
          "model_module_version": "1.5.0",
          "model_name": "DescriptionStyleModel",
          "state": {
            "_model_module": "@jupyter-widgets/controls",
            "_model_module_version": "1.5.0",
            "_model_name": "DescriptionStyleModel",
            "_view_count": null,
            "_view_module": "@jupyter-widgets/base",
            "_view_module_version": "1.2.0",
            "_view_name": "StyleView",
            "description_width": ""
          }
        },
        "e58d04c818134560a0fd6bf9d2da47d9": {
          "model_module": "@jupyter-widgets/controls",
          "model_module_version": "1.5.0",
          "model_name": "HTMLModel",
          "state": {
            "_dom_classes": [],
            "_model_module": "@jupyter-widgets/controls",
            "_model_module_version": "1.5.0",
            "_model_name": "HTMLModel",
            "_view_count": null,
            "_view_module": "@jupyter-widgets/controls",
            "_view_module_version": "1.5.0",
            "_view_name": "HTMLView",
            "description": "",
            "description_tooltip": null,
            "layout": "IPY_MODEL_14f45660c73d4968b1d2d1a4ee2e9a11",
            "placeholder": "​",
            "style": "IPY_MODEL_da240dadb099430c8529a5de50c9525b",
            "value": "vocab.json: "
          }
        },
        "f05ce9b0d0f643fcacc4370ee188c211": {
          "model_module": "@jupyter-widgets/controls",
          "model_module_version": "1.5.0",
          "model_name": "ProgressStyleModel",
          "state": {
            "_model_module": "@jupyter-widgets/controls",
            "_model_module_version": "1.5.0",
            "_model_name": "ProgressStyleModel",
            "_view_count": null,
            "_view_module": "@jupyter-widgets/base",
            "_view_module_version": "1.2.0",
            "_view_name": "StyleView",
            "bar_color": null,
            "description_width": ""
          }
        },
        "f10df7f93df54535a557bd3dff642e8e": {
          "model_module": "@jupyter-widgets/base",
          "model_module_version": "1.2.0",
          "model_name": "LayoutModel",
          "state": {
            "_model_module": "@jupyter-widgets/base",
            "_model_module_version": "1.2.0",
            "_model_name": "LayoutModel",
            "_view_count": null,
            "_view_module": "@jupyter-widgets/base",
            "_view_module_version": "1.2.0",
            "_view_name": "LayoutView",
            "align_content": null,
            "align_items": null,
            "align_self": null,
            "border": null,
            "bottom": null,
            "display": null,
            "flex": null,
            "flex_flow": null,
            "grid_area": null,
            "grid_auto_columns": null,
            "grid_auto_flow": null,
            "grid_auto_rows": null,
            "grid_column": null,
            "grid_gap": null,
            "grid_row": null,
            "grid_template_areas": null,
            "grid_template_columns": null,
            "grid_template_rows": null,
            "height": null,
            "justify_content": null,
            "justify_items": null,
            "left": null,
            "margin": null,
            "max_height": null,
            "max_width": null,
            "min_height": null,
            "min_width": null,
            "object_fit": null,
            "object_position": null,
            "order": null,
            "overflow": null,
            "overflow_x": null,
            "overflow_y": null,
            "padding": null,
            "right": null,
            "top": null,
            "visibility": null,
            "width": "20px"
          }
        },
        "f3a3b2184acd4aa180a54aeb357da67d": {
          "model_module": "@jupyter-widgets/controls",
          "model_module_version": "1.5.0",
          "model_name": "ProgressStyleModel",
          "state": {
            "_model_module": "@jupyter-widgets/controls",
            "_model_module_version": "1.5.0",
            "_model_name": "ProgressStyleModel",
            "_view_count": null,
            "_view_module": "@jupyter-widgets/base",
            "_view_module_version": "1.2.0",
            "_view_name": "StyleView",
            "bar_color": null,
            "description_width": ""
          }
        },
        "f3fc330d8cfd46b5952193cebb479408": {
          "model_module": "@jupyter-widgets/controls",
          "model_module_version": "1.5.0",
          "model_name": "HTMLModel",
          "state": {
            "_dom_classes": [],
            "_model_module": "@jupyter-widgets/controls",
            "_model_module_version": "1.5.0",
            "_model_name": "HTMLModel",
            "_view_count": null,
            "_view_module": "@jupyter-widgets/controls",
            "_view_module_version": "1.5.0",
            "_view_name": "HTMLView",
            "description": "",
            "description_tooltip": null,
            "layout": "IPY_MODEL_5bd64297d23844f7a167ccd30711254f",
            "placeholder": "​",
            "style": "IPY_MODEL_18f5529675cd495d9d2dfd424b12f04b",
            "value": " 150/150 [00:00&lt;00:00, 5.02kB/s]"
          }
        },
        "fe9a7b04347a4fcfbd6348cfd3476a94": {
          "model_module": "@jupyter-widgets/controls",
          "model_module_version": "1.5.0",
          "model_name": "HBoxModel",
          "state": {
            "_dom_classes": [],
            "_model_module": "@jupyter-widgets/controls",
            "_model_module_version": "1.5.0",
            "_model_name": "HBoxModel",
            "_view_count": null,
            "_view_module": "@jupyter-widgets/controls",
            "_view_module_version": "1.5.0",
            "_view_name": "HBoxView",
            "box_style": "",
            "children": [
              "IPY_MODEL_e58d04c818134560a0fd6bf9d2da47d9",
              "IPY_MODEL_0a5dfd819e454d31a58b75a909c8fce1",
              "IPY_MODEL_8349336d64fd4d0aa33211f08bfb41d4"
            ],
            "layout": "IPY_MODEL_6684031e14b54ccfb378619d20a62323"
          }
        }
      }
    }
  },
  "nbformat": 4,
  "nbformat_minor": 0
}
